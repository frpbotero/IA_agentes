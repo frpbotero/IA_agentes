{
 "cells": [
  {
   "cell_type": "code",
   "execution_count": 1,
   "id": "003148b9",
   "metadata": {},
   "outputs": [],
   "source": [
    "from langchain_community.document_loaders.pdf import PyMuPDFLoader\n",
    "from langchain_text_splitters import RecursiveCharacterTextSplitter\n"
   ]
  },
  {
   "cell_type": "code",
   "execution_count": 3,
   "id": "4f286087",
   "metadata": {},
   "outputs": [],
   "source": [
    "files = \"files/apostila.pdf\"\n",
    "loader = PyMuPDFLoader(files)\n",
    "pages = loader.load()"
   ]
  },
  {
   "cell_type": "code",
   "execution_count": 4,
   "id": "a4e1b038",
   "metadata": {},
   "outputs": [
    {
     "data": {
      "text/plain": [
       "28"
      ]
     },
     "execution_count": 4,
     "metadata": {},
     "output_type": "execute_result"
    }
   ],
   "source": [
    "len(pages)"
   ]
  },
  {
   "cell_type": "code",
   "execution_count": 7,
   "id": "43ee463d",
   "metadata": {},
   "outputs": [
    {
     "data": {
      "text/plain": [
       "94"
      ]
     },
     "execution_count": 7,
     "metadata": {},
     "output_type": "execute_result"
    }
   ],
   "source": [
    "chunk_size = 500\n",
    "chunk_overlap = 50\n",
    "\n",
    "recursive_split = RecursiveCharacterTextSplitter(\n",
    "    chunk_overlap=chunk_overlap,\n",
    "    chunk_size=chunk_size,\n",
    "    separators=[\"\\n\\n\",\"\\n\",\" \", \"\", \".\"]\n",
    ")\n",
    "documents = recursive_split.split_documents(pages)\n",
    "len(documents)"
   ]
  },
  {
   "cell_type": "code",
   "execution_count": 8,
   "id": "51fdf00d",
   "metadata": {},
   "outputs": [],
   "source": [
    "from langchain_openai import OpenAIEmbeddings\n",
    "\n",
    "embeddings_model = OpenAIEmbeddings()"
   ]
  },
  {
   "cell_type": "code",
   "execution_count": 9,
   "id": "0368aebb",
   "metadata": {},
   "outputs": [],
   "source": [
    "from langchain_chroma import Chroma\n",
    "\n",
    "directory = \"files/chromo_vector\"\n",
    "\n",
    "vector_store = Chroma.from_documents(\n",
    "    documents=documents,\n",
    "    embedding=embeddings_model,\n",
    "    persist_directory=directory\n",
    ")"
   ]
  },
  {
   "cell_type": "code",
   "execution_count": 10,
   "id": "11fc8ed9",
   "metadata": {},
   "outputs": [
    {
     "data": {
      "text/plain": [
       "94"
      ]
     },
     "execution_count": 10,
     "metadata": {},
     "output_type": "execute_result"
    }
   ],
   "source": [
    "vector_store._collection.count()"
   ]
  },
  {
   "cell_type": "code",
   "execution_count": 11,
   "id": "c4211f63",
   "metadata": {},
   "outputs": [],
   "source": [
    "vector_store = Chroma(\n",
    "    embedding_function=embeddings_model,\n",
    "    persist_directory=directory\n",
    ")"
   ]
  },
  {
   "cell_type": "code",
   "execution_count": 12,
   "id": "0a3649c7",
   "metadata": {},
   "outputs": [
    {
     "data": {
      "text/plain": [
       "5"
      ]
     },
     "execution_count": 12,
     "metadata": {},
     "output_type": "execute_result"
    }
   ],
   "source": [
    "question = \"Quais os principais metodo para manipulação de strings\"\n",
    "\n",
    "docs = vector_store.similarity_search(question,k=5)\n",
    "len(docs)"
   ]
  },
  {
   "cell_type": "code",
   "execution_count": 13,
   "id": "c1cd25e5",
   "metadata": {},
   "outputs": [
    {
     "name": "stdout",
     "output_type": "stream",
     "text": [
      "3.2 Manipulação de strings .......................................................................................... 7 \n",
      "3.3 Fatiamento de strings ............................................................................................ 8 \n",
      "3.4 Exercícios: strings .................................................................................................. 8 \n",
      "4. NÚMEROS ................................................................................................................... 9\n",
      "=={'title': '', 'subject': '', 'format': 'PDF 1.5', 'total_pages': 28, 'moddate': '2016-05-04T10:06:39-03:00', 'creationDate': \"D:20160504100639-03'00'\", 'modDate': \"D:20160504100639-03'00'\", 'keywords': '', 'producer': 'Microsoft® Word 2013', 'creator': 'Microsoft® Word 2013', 'creationdate': '2016-05-04T10:06:39-03:00', 'source': 'files/apostila.pdf', 'author': 'lucas', 'trapped': '', 'file_path': 'files/apostila.pdf', 'page': 1}\n",
      "\n",
      "7 \n",
      " \n",
      "3.2 Manipulação de strings \n",
      " \n",
      "Em Python, existem várias funções (métodos) para manipular strings.  Na tabela a seguir são \n",
      "apresentados os principais métodos para a manipulação as strings. \n",
      " \n",
      "Tabela 2 - Manipulação de strings \n",
      " \n",
      "Método \n",
      " \n",
      "Descrição \n",
      " \n",
      "Exemplo \n",
      " \n",
      "len() \n",
      "Retorna o tamanho da string. \n",
      "teste = “Apostila de Python” \n",
      "len(teste) \n",
      "18 \n",
      " \n",
      "capitalize() \n",
      "Retorna a string com a primeira letra maiúscula  \n",
      "a = \"python\" \n",
      "a.capitalize() \n",
      "'Python' \n",
      " \n",
      "count()\n",
      "=={'producer': 'Microsoft® Word 2013', 'moddate': '2016-05-04T10:06:39-03:00', 'author': 'lucas', 'trapped': '', 'file_path': 'files/apostila.pdf', 'creationdate': '2016-05-04T10:06:39-03:00', 'creationDate': \"D:20160504100639-03'00'\", 'modDate': \"D:20160504100639-03'00'\", 'creator': 'Microsoft® Word 2013', 'source': 'files/apostila.pdf', 'title': '', 'total_pages': 28, 'format': 'PDF 1.5', 'keywords': '', 'subject': '', 'page': 9}\n",
      "\n",
      "2. VARIÁVEIS ................................................................................................................... 4 \n",
      "3. STRINGS ...................................................................................................................... 6 \n",
      "3.1 Concatenação de strings ........................................................................................ 6\n",
      "=={'file_path': 'files/apostila.pdf', 'total_pages': 28, 'author': 'lucas', 'title': '', 'format': 'PDF 1.5', 'creationDate': \"D:20160504100639-03'00'\", 'moddate': '2016-05-04T10:06:39-03:00', 'keywords': '', 'producer': 'Microsoft® Word 2013', 'source': 'files/apostila.pdf', 'modDate': \"D:20160504100639-03'00'\", 'subject': '', 'creator': 'Microsoft® Word 2013', 'trapped': '', 'creationdate': '2016-05-04T10:06:39-03:00', 'page': 1}\n",
      "\n",
      "8 \n",
      " \n",
      " \n",
      "3.3 Fatiamento de strings \n",
      " \n",
      "O fatiamento é uma ferramenta usada para extrair apenas uma parte dos elementos de uma string. \n",
      " \n",
      " \n",
      "Nome_String [Limite_Inferior : Limite_Superior] \n",
      " \n",
      "Retorna uma string com os elementos das posições do limite inferior até o limite superior - 1. \n",
      " \n",
      "Exemplo: \n",
      " \n",
      "s = \"Python\" \n",
      "s[1:4]    seleciona os elementos das posições 1,2,3  \n",
      "'yth' \n",
      " \n",
      "s[2:]    seleciona os elementos a partir da posição 2  \n",
      "'thon' \n",
      " \n",
      "s[:4]    seleciona os elementos até a posição 3  \n",
      "'Pyth'\n",
      "=={'producer': 'Microsoft® Word 2013', 'total_pages': 28, 'title': '', 'subject': '', 'format': 'PDF 1.5', 'creationdate': '2016-05-04T10:06:39-03:00', 'creator': 'Microsoft® Word 2013', 'source': 'files/apostila.pdf', 'file_path': 'files/apostila.pdf', 'moddate': '2016-05-04T10:06:39-03:00', 'trapped': '', 'creationDate': \"D:20160504100639-03'00'\", 'page': 10, 'keywords': '', 'author': 'lucas', 'modDate': \"D:20160504100639-03'00'\"}\n",
      "\n",
      "5.1 Funções para manipulação de listas \n",
      " \n",
      "A lista é uma estrutura mutável, ou seja, ela pode ser modificada. Na tabela a seguir estão \n",
      "algumas funções utilizadas para manipular listas.\n",
      "=={'page': 12, 'producer': 'Microsoft® Word 2013', 'moddate': '2016-05-04T10:06:39-03:00', 'total_pages': 28, 'trapped': '', 'subject': '', 'source': 'files/apostila.pdf', 'format': 'PDF 1.5', 'author': 'lucas', 'creator': 'Microsoft® Word 2013', 'file_path': 'files/apostila.pdf', 'keywords': '', 'creationdate': '2016-05-04T10:06:39-03:00', 'title': '', 'creationDate': \"D:20160504100639-03'00'\", 'modDate': \"D:20160504100639-03'00'\"}\n",
      "\n"
     ]
    }
   ],
   "source": [
    "for doc in docs:\n",
    "    print(doc.page_content)\n",
    "    print(f'=={doc.metadata}\\n')"
   ]
  }
 ],
 "metadata": {
  "kernelspec": {
   "display_name": "venv",
   "language": "python",
   "name": "python3"
  },
  "language_info": {
   "codemirror_mode": {
    "name": "ipython",
    "version": 3
   },
   "file_extension": ".py",
   "mimetype": "text/x-python",
   "name": "python",
   "nbconvert_exporter": "python",
   "pygments_lexer": "ipython3",
   "version": "3.10.12"
  }
 },
 "nbformat": 4,
 "nbformat_minor": 5
}
