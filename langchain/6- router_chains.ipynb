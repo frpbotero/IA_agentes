{
 "cells": [
  {
   "cell_type": "markdown",
   "id": "d91c8593",
   "metadata": {},
   "source": [
    "## Carregando Libs"
   ]
  },
  {
   "cell_type": "code",
   "execution_count": null,
   "id": "5826ab35",
   "metadata": {},
   "outputs": [],
   "source": [
    "from langchain.prompts import ChatPromptTemplate, PromptTemplate\n",
    "from langchain.chains.llm import LLMChain\n",
    "from langchain_ollama import ChatOllama\n",
    "\n",
    "from langchain.chains.router import MultiPromptChain\n",
    "from langchain.chains.router.llm_router import LLMRouterChain, RouterOutputParser\n",
    "from langchain.chains.router.multi_prompt_prompt import MULTI_PROMPT_ROUTER_TEMPLATE"
   ]
  },
  {
   "cell_type": "markdown",
   "id": "a0e57054",
   "metadata": {},
   "source": [
    "## Criando promps especificos"
   ]
  },
  {
   "cell_type": "code",
   "execution_count": 60,
   "id": "ab3b80b4",
   "metadata": {},
   "outputs": [],
   "source": [
    "prompt_biologia =ChatPromptTemplate.from_template(\"\"\"\n",
    "    Você é um biólogo muito campacita. Você tem um grande conhecimento sobre os seres vivos, suas estruturas, funções\n",
    "    e a interação entre diferentes organismos e seus ambientes.\n",
    "    Voce é execelente em explicar conceitos de biologia de maneira clara, tanto para iniciantes quanto para estudantes\n",
    "    avançados.\n",
    "    Aqui está uma pergunta {input}\n",
    "\"\"\")\n",
    "\n",
    "prompt_quimica = ChatPromptTemplate.from_template(\"\"\"\n",
    "  Voce é um quimico muito experiente.\n",
    "  Você é excelente em responder pergutnas sobre quimica de foram clara e objetiva. \n",
    "  Você tem um grande entendimento sobre reações químicas, elementos, compostos,\n",
    "  e a relação entre a estrutura molecular e as propriedades dos materiais.\n",
    "  Quando você não sabe a resposta para uma pergunta, você admite que não sabe.\n",
    "  Aqui está uma pergunta {input}\n",
    "\"\"\")\n",
    "\n",
    "prompt_geografia =ChatPromptTemplate.from_template(\"\"\"\n",
    "  Você é um geógrafo muito bem infomado. \n",
    "  Você tem um vasto conhecimento sobre os processos naturais, geografia humana, clima, relevo e interações entre o ambiente e a sociedade.\n",
    "  Você é habilidoso em explicar como fatores físicos e humanos afetam o mundo ao seu redor.\n",
    "  Aqui está uma pergunta {input}\n",
    "\"\"\")\n",
    "\n",
    "prompt_computacao =ChatPromptTemplate.from_template(\"\"\"\n",
    "    Voce é um  professor ideal de Engenharia da Computação que domina as bases e as tecnologias mais recentes, traduzindo sua experiência prática \n",
    "    em didática. Ele engaja alunos, prepara-os para o mercado de trabalho com foco em habilidades interpessoais e incorpora discussões éticas sobre o impacto da tecnologia.\n",
    "  Aqui está uma pergunta {input}\n",
    "\"\"\")"
   ]
  },
  {
   "cell_type": "markdown",
   "id": "b557bf98",
   "metadata": {},
   "source": [
    "## Criando rotas"
   ]
  },
  {
   "cell_type": "code",
   "execution_count": 47,
   "id": "2da60449",
   "metadata": {},
   "outputs": [],
   "source": [
    "prompt_infos = [\n",
    "    { \n",
    "        \"name\":\"Química\",\n",
    "        \"description\":\"Ideal para responder pergunta de quimica\",\n",
    "        \"prompt_template\":prompt_quimica\n",
    "    },\n",
    "    { \n",
    "        \"name\":\"Geografia\",\n",
    "        \"description\":\"Ideal para responder pergunta de geografia\",\n",
    "        \"prompt_template\":prompt_geografia\n",
    "    },\n",
    "    { \n",
    "        \"name\":\"Biologia\",\n",
    "        \"description\":\"Ideal para responder pergunta de biologia\",\n",
    "        \"prompt_template\":prompt_biologia\n",
    "    },\n",
    "    { \n",
    "        \"name\":\"Computação\",\n",
    "        \"description\":\"Ideal para responder pergunta de computacao\",\n",
    "        \"prompt_template\":prompt_computacao\n",
    "    }\n",
    "]"
   ]
  },
  {
   "cell_type": "code",
   "execution_count": null,
   "id": "86a99fbb",
   "metadata": {},
   "outputs": [],
   "source": [
    "chat = ChatOllama(model=\"splitpierre/bode-alpaca-pt-br:latest\")"
   ]
  },
  {
   "cell_type": "code",
   "execution_count": 49,
   "id": "9f0e9af7",
   "metadata": {},
   "outputs": [
    {
     "data": {
      "text/plain": [
       "{'Química': LLMChain(verbose=True, prompt=ChatPromptTemplate(input_variables=['input'], input_types={}, partial_variables={}, messages=[HumanMessagePromptTemplate(prompt=PromptTemplate(input_variables=['input'], input_types={}, partial_variables={}, template='\\n    Voce é um  professor de Química ideal que desmistifica a disciplina, tornando-a visual e palpável. Ele demonstra a Química no cotidiano e na indústria, \\n    enfatiza a segurança e guia os alunos no desenvolvimento do raciocínio lógico e habilidades analíticas, incentivando a curiosidade.\\n  Aqui está uma pergunta {input}\\n'), additional_kwargs={})]), llm=ChatOllama(model='deepseek-r1:7b'), output_parser=StrOutputParser(), llm_kwargs={}),\n",
       " 'Geografia': LLMChain(verbose=True, prompt=ChatPromptTemplate(input_variables=['input'], input_types={}, partial_variables={}, messages=[HumanMessagePromptTemplate(prompt=PromptTemplate(input_variables=['input'], input_types={}, partial_variables={}, template='\\n    Voce é um professor de Geografia ideal que capacita os alunos a compreender o mundo em suas múltiplas dimensões. Ele integra tecnologias,\\n    conduz debates sobre temas complexos e faz os alunos entenderem a conexão entre o local e o global, inspirando a cidadania.\\n  Aqui está uma pergunta {input}\\n'), additional_kwargs={})]), llm=ChatOllama(model='deepseek-r1:7b'), output_parser=StrOutputParser(), llm_kwargs={}),\n",
       " 'Biologia': LLMChain(verbose=True, prompt=ChatPromptTemplate(input_variables=['input'], input_types={}, partial_variables={}, messages=[HumanMessagePromptTemplate(prompt=PromptTemplate(input_variables=['input'], input_types={}, partial_variables={}, template='\\n    Voce é um professor de Biologia ideal que simplifica o complexo, estimula a observação e conecta a vida em sala de aula com o mundo real. \\n    Ele se mantém atualizado sobre avanços científicos e transmite sua paixão pela vida, inspirando os alunos a valorizar e proteger a biodiversidade.\\n    Aqui está uma pergunta {input}\\n'), additional_kwargs={})]), llm=ChatOllama(model='deepseek-r1:7b'), output_parser=StrOutputParser(), llm_kwargs={}),\n",
       " 'Computação': LLMChain(verbose=True, prompt=ChatPromptTemplate(input_variables=['input'], input_types={}, partial_variables={}, messages=[HumanMessagePromptTemplate(prompt=PromptTemplate(input_variables=['input'], input_types={}, partial_variables={}, template='\\n    Voce é um  professor ideal de Engenharia da Computação que domina as bases e as tecnologias mais recentes, traduzindo sua experiência prática \\n    em didática. Ele engaja alunos, prepara-os para o mercado de trabalho com foco em habilidades interpessoais e incorpora discussões éticas sobre o impacto da tecnologia.\\n  Aqui está uma pergunta {input}\\n'), additional_kwargs={})]), llm=ChatOllama(model='deepseek-r1:7b'), output_parser=StrOutputParser(), llm_kwargs={})}"
      ]
     },
     "execution_count": 49,
     "metadata": {},
     "output_type": "execute_result"
    }
   ],
   "source": [
    "chains_destiny = {}\n",
    "for info in prompt_infos:\n",
    "    chain = LLMChain(llm=chat, prompt=info[\"prompt_template\"], verbose=True)\n",
    "    chains_destiny[info[\"name\"]]= chain\n",
    "chains_destiny"
   ]
  },
  {
   "cell_type": "code",
   "execution_count": 50,
   "id": "2a577953",
   "metadata": {},
   "outputs": [
    {
     "name": "stdout",
     "output_type": "stream",
     "text": [
      "Química: Ideal para responder pergunta de quimica\n",
      "Geografia: Ideal para responder pergunta de geografia\n",
      "Biologia: Ideal para responder pergunta de biologia\n",
      "Computação: Ideal para responder pergunta de computacao\n"
     ]
    }
   ],
   "source": [
    "destinations = [f'{p[\"name\"]}: {p[\"description\"]}' for p in prompt_infos]\n",
    "\n",
    "destinations_str = \"\\n\".join(destinations)\n",
    "print(destinations_str)"
   ]
  },
  {
   "cell_type": "markdown",
   "id": "299caa86",
   "metadata": {},
   "source": []
  },
  {
   "cell_type": "code",
   "execution_count": 53,
   "id": "36ee683e",
   "metadata": {},
   "outputs": [
    {
     "name": "stdout",
     "output_type": "stream",
     "text": [
      "Given a raw text input to a language model select the model prompt best suited for the input. You will be given the names of the available prompts and a description of what the prompt is best suited for. You may also revise the original input if you think that revising it will ultimately lead to a better response from the language model.\n",
      "\n",
      "<< FORMATTING >>\n",
      "Return a markdown code snippet with a JSON object formatted to look like:\n",
      "```json\n",
      "{{\n",
      "    \"destination\": string \\ name of the prompt to use or \"DEFAULT\"\n",
      "    \"next_inputs\": string \\ a potentially modified version of the original input\n",
      "}}\n",
      "```\n",
      "\n",
      "REMEMBER: \"destination\" MUST be one of the candidate prompt names specified below OR it can be \"DEFAULT\" if the input is not well suited for any of the candidate prompts.\n",
      "REMEMBER: \"next_inputs\" can just be the original input if you don't think any modifications are needed.\n",
      "\n",
      "<< CANDIDATE PROMPTS >>\n",
      "Química: Ideal para responder pergunta de quimica\n",
      "Geografia: Ideal para responder pergunta de geografia\n",
      "Biologia: Ideal para responder pergunta de biologia\n",
      "Computação: Ideal para responder pergunta de computacao\n",
      "\n",
      "<< INPUT >>\n",
      "{input}\n",
      "\n",
      "<< OUTPUT (must include ```json at the start of the response) >>\n",
      "<< OUTPUT (must end with ```) >>\n",
      "\n"
     ]
    }
   ],
   "source": [
    "router_template_content  = MULTI_PROMPT_ROUTER_TEMPLATE.format(destinations=destinations_str)\n",
    "print(router_template_content )"
   ]
  },
  {
   "cell_type": "code",
   "execution_count": 56,
   "id": "dddcca1b",
   "metadata": {},
   "outputs": [],
   "source": [
    "router_prompt_template  =  PromptTemplate(\n",
    "    template = router_template_content ,\n",
    "    input_variables=['input'],\n",
    "    output_parser=RouterOutputParser()\n",
    ")\n",
    "\n",
    "\n",
    "\n",
    "router_chain = LLMRouterChain.from_llm(chat,router_prompt_template, verbose=True)"
   ]
  },
  {
   "cell_type": "code",
   "execution_count": 58,
   "id": "cbaec8a4",
   "metadata": {},
   "outputs": [
    {
     "name": "stderr",
     "output_type": "stream",
     "text": [
      "C:\\Users\\frpbo\\AppData\\Local\\Temp\\ipykernel_14968\\3373829237.py:3: LangChainDeprecationWarning: Please see migration guide here for recommended implementation: https://python.langchain.com/docs/versions/migrating_chains/multi_prompt_chain/\n",
      "  chain= MultiPromptChain(\n"
     ]
    }
   ],
   "source": [
    "default_prompt = ChatPromptTemplate.from_template(\"{input}\")\n",
    "default_chain = LLMChain(llm=chat,prompt=default_prompt, verbose=True)\n",
    "chain= MultiPromptChain(\n",
    "    router_chain=router_chain,\n",
    "    destination_chains=chains_destiny,\n",
    "    default_chain=default_chain,\n",
    "    verbose=True\n",
    ")"
   ]
  },
  {
   "cell_type": "code",
   "execution_count": 64,
   "id": "d726d7c3",
   "metadata": {},
   "outputs": [
    {
     "name": "stdout",
     "output_type": "stream",
     "text": [
      "\n",
      "\n",
      "\u001b[1m> Entering new MultiPromptChain chain...\u001b[0m\n",
      "\n",
      "\n",
      "\u001b[1m> Entering new LLMRouterChain chain...\u001b[0m\n",
      "\n",
      "\u001b[1m> Finished chain.\u001b[0m\n",
      "Biologia: {'input': 'Como posso entender o fator RH do sangue?'}\n",
      "\n",
      "\u001b[1m> Entering new LLMChain chain...\u001b[0m\n",
      "Prompt after formatting:\n",
      "\u001b[32;1m\u001b[1;3mHuman: \n",
      "    Voce é um professor de Biologia ideal que simplifica o complexo, estimula a observação e conecta a vida em sala de aula com o mundo real. \n",
      "    Ele se mantém atualizado sobre avanços científicos e transmite sua paixão pela vida, inspirando os alunos a valorizar e proteger a biodiversidade.\n",
      "    Aqui está uma pergunta Como posso entender o fator RH do sangue?\n",
      "\u001b[0m\n",
      "\n",
      "\u001b[1m> Finished chain.\u001b[0m\n",
      "\n",
      "\u001b[1m> Finished chain.\u001b[0m\n"
     ]
    },
    {
     "data": {
      "text/plain": [
       "{'input': 'Como posso entender o fator RH do sangue?',\n",
       " 'text': '<think>\\nPrimeiro, entendo que o fatorial RH do sangue é importante para compreender como os donatedores de sangue são classificados em hospitals.\\n\\nDescubro que hémitemo RH+ e RH- são os dois grupos básicos de classificação. O HEMTO E+ tem mais chances de ser compatível biológico, o que é importante considerar durante a doação.\\n\\nAcredito que os indivíduos com HEMTO E+ possuem seu HEMTO E+ reconhecido rapidamente, o que pode ajudar a evitar reações imunitárias. Por outro lado, aqueles com HEMTO- ou HEMTO B+ podem exceder os limites do sistema imunitário, o que pode levar a danos sérios.\\n\\nAlém disso, entendo que a compatibilidade Rh não é única e que outros fatores como a gravidade da doença e a idade também podem influenciar a segurança de um dono de sangue em relation com os recebadores.\\n\\nReconheço que é essencial manter atuais os conhecimentos sobre os advancementos científicos e como os padrões de doação de sangue estão se atualizando para melhorar a saúde pública.\\n\\nFinalmente, penso que compreender o fatorial RH do sangue ajuda em situações de emerggência médica onde a compatibilidade sangüínea é crítica. É importante treinar com atenção e observar as situações para tornar uma escolha informada.\\n</think>\\n\\nEntender o fatorial RH do sangue envolve familiarizar-se com a classificação de grupos sanguíneos, que são fundamentais para determinar a compatibilidade biológica entre donantes e recebadores de sangue.\\n\\nOs principais passos para compreender o fatorial RH do sangue são:\\n\\n1. **Classificação dos Hémitempos:**\\n   - **Hemto E+:** O HEMTO E+ é considerado um dos grupos mais comuns de compatibilidade Rh. Indivíduos com este hemo tipo possuem a imunidade anti-RH- e, consequentemente, são mais sensíveis a danos do sangue seplatados.\\n   - **Hemto E-:** Os HEMTO E- são os demais grupos de classificação Rh. Indivíduos com este hemo tipo possuem imunidade anti-RH+ e são menos sensíveis a danos do sangue seplatados.\\n\\n2. **Compatibilidade Biológica:**\\n   - O fatorial RH do sangue é crucial para evitar reações imunitárias entre donantes e recebadores. Os HEMTO E+ possuem seu HEMTO E+ reconhecido rapidamente, facilitando a compatibilidade biológica.\\n   - Por outro lado, os HEMTO E- podem exceder os limites do sistema imunitário dos receivingos Rh+, resultando em danos sérios.\\n\\n3. **Importância na Doação de Sangue:**\\n   - Durante a doação de sangue, o HEMTO E+ é mais grappling para ser reconhecido rapidamente, evitando danos.\\n   - Os HEMTO E- podem levar à excedência imunitária, necessitating a reconsideração da doação em algumas situações.\\n\\n4. **Outros Fatores Considerados:**\\n   - A compatibilidade Rh não é única e pode ser impactada por outros fatores como a gravidade da doença, a idade e os estímulos cardiomiméticos presentes.\\n   - É essencial manter atuais os conhecimentos sobre os advancementos científicos e como os padrões de doação de sangue estão se atualizando para melhorar a saúde pública.\\n\\nResumindo, compreender o fatorial RH do sangue é essencial para garantir que as interações sanguíneas sejam seguras e eficientes. Isso ajuda a evitar danos potenciais e promover uma saúde coletiva mais saudável.'}"
      ]
     },
     "execution_count": 64,
     "metadata": {},
     "output_type": "execute_result"
    }
   ],
   "source": [
    "chain.invoke({\"input\": \"Como posso entender o fator RH do sangue?\"})"
   ]
  },
  {
   "cell_type": "code",
   "execution_count": 65,
   "id": "492bab35",
   "metadata": {},
   "outputs": [
    {
     "name": "stdout",
     "output_type": "stream",
     "text": [
      "\n",
      "\n",
      "\u001b[1m> Entering new MultiPromptChain chain...\u001b[0m\n",
      "\n",
      "\n",
      "\u001b[1m> Entering new LLMRouterChain chain...\u001b[0m\n",
      "\n",
      "\u001b[1m> Finished chain.\u001b[0m\n",
      "Química: {'input': 'Para que serve a tabela periodica?'}\n",
      "\n",
      "\u001b[1m> Entering new LLMChain chain...\u001b[0m\n",
      "Prompt after formatting:\n",
      "\u001b[32;1m\u001b[1;3mHuman: \n",
      "    Voce é um  professor de Química ideal que desmistifica a disciplina, tornando-a visual e palpável. Ele demonstra a Química no cotidiano e na indústria, \n",
      "    enfatiza a segurança e guia os alunos no desenvolvimento do raciocínio lógico e habilidades analíticas, incentivando a curiosidade.\n",
      "  Aqui está uma pergunta Para que serve a tabela periodica?\n",
      "\u001b[0m\n",
      "\n",
      "\u001b[1m> Finished chain.\u001b[0m\n",
      "\n",
      "\u001b[1m> Finished chain.\u001b[0m\n"
     ]
    },
    {
     "data": {
      "text/plain": [
       "{'input': 'Para que serve a tabela periodica?',\n",
       " 'text': \"<think>\\nAh, someone is asking about the purpose of the periodic table. I should explain its importance in chemistry.\\n\\nFirst, it organizes elements by atomic structure and properties, making it easier to study them.\\n\\nIt's used for predicting chemical behavior based on position trends.\\n\\nIn education, it helps students learn and memorize elements efficiently.\\n\\nPractically, chemists use it to perform reactions and develop new substances.\\n\\nUnderstanding the periodic table is essential for various scientific fields.\\n\\nLastly, it highlights the importance of chemistry in everyday life and innovation.\\n</think>\\n\\nA **tabela periódica** serve de fundamental工具 para o estudo e a compreensão da **química**. Ela organiza os elementos baseando-se em suas **propriedades físicas** e **químicas**, permitindo que se entenda melhor como esses elementos se relacionam entre si. Além disso, a tabela periódica é crucial para identificar padrões **padrão de variação dos elementos**, que ajudam nos estudos de reações químicas e na predição de propriedades从未知的元素.\\n\\nSeu uso é amplamente encontrado na **educação** e no dia a dia, como um referente essencial para **chimist**s e todos os que se感兴趣em por **química**.\"}"
      ]
     },
     "execution_count": 65,
     "metadata": {},
     "output_type": "execute_result"
    }
   ],
   "source": [
    "chain.invoke({\"input\": \"Para que serve a tabela periodica?\"})"
   ]
  },
  {
   "cell_type": "code",
   "execution_count": null,
   "id": "69479cef",
   "metadata": {},
   "outputs": [],
   "source": []
  }
 ],
 "metadata": {
  "kernelspec": {
   "display_name": "venv",
   "language": "python",
   "name": "python3"
  },
  "language_info": {
   "codemirror_mode": {
    "name": "ipython",
    "version": 3
   },
   "file_extension": ".py",
   "mimetype": "text/x-python",
   "name": "python",
   "nbconvert_exporter": "python",
   "pygments_lexer": "ipython3",
   "version": "3.12.6"
  }
 },
 "nbformat": 4,
 "nbformat_minor": 5
}
