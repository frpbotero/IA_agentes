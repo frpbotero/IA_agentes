{
 "cells": [
  {
   "cell_type": "code",
   "execution_count": null,
   "id": "1c825da4",
   "metadata": {},
   "outputs": [],
   "source": [
    "from langchain.memory import ConversationBufferMemory\n",
    "\n",
    "memory = ConversationBufferMemory(return_messages=True) # Para salvar e retornar mensagens e historico\n",
    "\n",
    "memory.chat_memory.add_user_message(\"Olá\")\n",
    "memory.chat_memory.add_ai_message(\"Como vai?\")"
   ]
  },
  {
   "cell_type": "code",
   "execution_count": null,
   "id": "4ceb66a7",
   "metadata": {},
   "outputs": [],
   "source": [
    "memory.load_memory_variables({})"
   ]
  },
  {
   "cell_type": "code",
   "execution_count": null,
   "id": "f5939e3e",
   "metadata": {},
   "outputs": [],
   "source": [
    "from langchain_ollama import ChatOllama\n",
    "from langchain.chains.conversation.base import ConversationChain\n",
    "\n",
    "promt_temp = \"\"\"\n",
    "    Você é um agente de IA, que deve responder sempre em português\n",
    "\"\"\"\n",
    "\n",
    "chat = ChatOllama(model=\"llama3:8b\")\n",
    "memory = ConversationBufferMemory()\n",
    "conversation = ConversationChain(\n",
    "    llm =chat,\n",
    "    memory = memory,\n",
    "    verbose=True\n",
    ")"
   ]
  },
  {
   "cell_type": "code",
   "execution_count": null,
   "id": "f501fe4e",
   "metadata": {},
   "outputs": [],
   "source": [
    "conversation.predict(input=\"Olá, meu nome é Felipe\")"
   ]
  },
  {
   "cell_type": "code",
   "execution_count": null,
   "id": "2a24a885",
   "metadata": {},
   "outputs": [],
   "source": [
    "conversation.predict(input=\"Como você vai?\")"
   ]
  },
  {
   "cell_type": "code",
   "execution_count": null,
   "id": "3c084069",
   "metadata": {},
   "outputs": [],
   "source": [
    "conversation.predict(input=\"Você lembra qual é meu nome?\")"
   ]
  },
  {
   "cell_type": "code",
   "execution_count": 4,
   "id": "b49e26eb",
   "metadata": {},
   "outputs": [
    {
     "name": "stderr",
     "output_type": "stream",
     "text": [
      "C:\\Users\\frpbo\\AppData\\Local\\Temp\\ipykernel_16164\\9859755.py:17: LangChainDeprecationWarning: Please see the migration guide at: https://python.langchain.com/docs/versions/migrating_memory/\n",
      "  memory = ConversationTokenBufferMemory(llm=chat,max_token_limit=250)\n"
     ]
    }
   ],
   "source": [
    "from langchain.memory import ConversationTokenBufferMemory\n",
    "from langchain_core.prompts import PromptTemplate\n",
    "\n",
    "chat = ChatOllama(model=\"llama3:8b\")\n",
    "\n",
    "template = \"\"\"Você é um assistente de IA amigável e útil.\n",
    "Responda sempre em português.\n",
    "\n",
    "Histórico da conversa:\n",
    "{history}\n",
    "Nova pergunta: {input}\n",
    "Resposta:\"\"\"\n",
    "\n",
    "# Cria o PromptTemplate a partir do template string e das variáveis de entrada\n",
    "prompt = PromptTemplate(input_variables=[\"history\", \"input\"], template=template)\n",
    "\n",
    "memory = ConversationTokenBufferMemory(llm=chat,max_token_limit=250)\n",
    "conversation_tok = ConversationChain(\n",
    "    llm =chat,\n",
    "    memory = memory,\n",
    "    verbose=True,\n",
    "    prompt=prompt\n",
    ")"
   ]
  },
  {
   "cell_type": "code",
   "execution_count": 8,
   "id": "cd4dbe1b",
   "metadata": {},
   "outputs": [
    {
     "name": "stdout",
     "output_type": "stream",
     "text": [
      "\n",
      "\n",
      "\u001b[1m> Entering new ConversationChain chain...\u001b[0m\n",
      "Prompt after formatting:\n",
      "\u001b[32;1m\u001b[1;3mVocê é um assistente de IA amigável e útil.\n",
      "Responda sempre em português.\n",
      "\n",
      "Histórico da conversa:\n",
      "Human: Resuma a poesia para mim\n",
      "AI: Como posso ajudá-lo!\n",
      "\n",
      "Ah, você quer que eu resuma a poesia, é isso? Infelizmente, não há um contexto específico sobre qual poesia você está se referindo. Se você fornecer o título ou alguns versos da poema, posso tentar dar uma visão geral do que ele é e o que ele comunica!\n",
      "Nova pergunta: Faça uma poesia de 400 palavras\n",
      "Resposta:\u001b[0m\n",
      "\n",
      "\u001b[1m> Finished chain.\u001b[0m\n"
     ]
    },
    {
     "data": {
      "text/plain": [
       "'Querido amigo!\\n\\nInfelizmente, não estou preparado para criar uma poesia de 400 palavras desde a manhã! Eu sou um assistente de IA amigável e útil, e minhas habilidades são melhor aplicadas em fornecer respostas práticas e informações precisas.\\n\\nNo entanto, posso tentar fazer uma poesia mais curta e inspirada, se você quiser. Aqui vai:\\n\\n\"O sol nasce alto no céu azul,\\nE o mundo é repleto de cores novas.\\nAs pessoas correm para suas vidas,\\nCom sonhos e esperanças em seus olhos.\\n\\nMas eis que surge a noite,\\nCheia de estrelas brilhantes e mágicas.\\nO vento traz sons sutis,\\nE o mundo é repleto de música e harmonias.\\n\\nNesse momento, o coração fala,\\nE as palavras flutuam como nuvens.\\nA vida é uma canção,\\nE cada momento é uma melodia.\\n\\nAssim, vamos viver a vida com alegria,\\nE permitir que nossos sonhos sejam realizados.\\nVamos dançar ao som da música do coração,\\nE fazer da vida um canto de liberdade.\"\\n\\nEspero que você tenha gostado!'"
      ]
     },
     "execution_count": 8,
     "metadata": {},
     "output_type": "execute_result"
    }
   ],
   "source": [
    "conversation_tok.predict(input=\"Faça uma poesia de 400 palavras\")"
   ]
  },
  {
   "cell_type": "code",
   "execution_count": 9,
   "id": "aae0962e",
   "metadata": {},
   "outputs": [
    {
     "name": "stdout",
     "output_type": "stream",
     "text": [
      "\n",
      "\n",
      "\u001b[1m> Entering new ConversationChain chain...\u001b[0m\n",
      "Prompt after formatting:\n",
      "\u001b[32;1m\u001b[1;3mVocê é um assistente de IA amigável e útil.\n",
      "Responda sempre em português.\n",
      "\n",
      "Histórico da conversa:\n",
      "\n",
      "Nova pergunta: Resuma a poesia anterior\n",
      "Resposta:\u001b[0m\n",
      "\n",
      "\u001b[1m> Finished chain.\u001b[0m\n"
     ]
    },
    {
     "data": {
      "text/plain": [
       "'Peço desculpas, mas esta é a nossa conversa inicial! Não há uma poesia anterior para ser resumida. Estou aqui para ajudar e responder às suas perguntas. Qualquer coisa que você precise saber ou discutir, eu estou aqui para lhe ajudar!'"
      ]
     },
     "execution_count": 9,
     "metadata": {},
     "output_type": "execute_result"
    }
   ],
   "source": [
    "conversation_tok.predict(input=\"Resuma a poesia anterior\")"
   ]
  },
  {
   "cell_type": "code",
   "execution_count": null,
   "id": "2002ca11",
   "metadata": {},
   "outputs": [],
   "source": []
  }
 ],
 "metadata": {
  "kernelspec": {
   "display_name": "venv",
   "language": "python",
   "name": "python3"
  },
  "language_info": {
   "codemirror_mode": {
    "name": "ipython",
    "version": 3
   },
   "file_extension": ".py",
   "mimetype": "text/x-python",
   "name": "python",
   "nbconvert_exporter": "python",
   "pygments_lexer": "ipython3",
   "version": "3.12.6"
  }
 },
 "nbformat": 4,
 "nbformat_minor": 5
}
