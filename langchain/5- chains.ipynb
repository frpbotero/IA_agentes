{
 "cells": [
  {
   "cell_type": "code",
   "execution_count": 1,
   "id": "519bd8f9",
   "metadata": {},
   "outputs": [],
   "source": [
    "from langchain_ollama import ChatOllama\n",
    "from langchain.memory import ConversationBufferMemory\n",
    "from langchain.chains.conversation.base import ConversationChain"
   ]
  },
  {
   "cell_type": "code",
   "execution_count": 8,
   "id": "43fe4c43",
   "metadata": {},
   "outputs": [],
   "source": [
    "from langchain.prompts import PromptTemplate\n",
    "\n",
    "prompt_template = PromptTemplate.from_template(\"\"\"\n",
    "    Essa é a uma conversa amigavel entre um humano e uma IA.\n",
    "    Responda em português.\n",
    "                                               \n",
    "    Conversa atual:\n",
    "    {history}                                              \n",
    "    Human:{input}\n",
    "    AI:\n",
    "\"\"\")"
   ]
  },
  {
   "cell_type": "markdown",
   "id": "78d91d21",
   "metadata": {},
   "source": [
    "### Cadeia de Conversação"
   ]
  },
  {
   "cell_type": "code",
   "execution_count": 9,
   "id": "6d7dbab4",
   "metadata": {},
   "outputs": [],
   "source": [
    "chat = chat = ChatOllama(model=\"llama3:8b\")\n",
    "\n",
    "memory = ConversationBufferMemory()\n",
    "chain = ConversationChain(\n",
    "    llm=chat,\n",
    "    memory=memory,\n",
    "    verbose=True, \n",
    "    prompt=prompt_template\n",
    ")"
   ]
  },
  {
   "cell_type": "code",
   "execution_count": 10,
   "id": "c58a080d",
   "metadata": {},
   "outputs": [
    {
     "name": "stdout",
     "output_type": "stream",
     "text": [
      "\n",
      "\n",
      "\u001b[1m> Entering new ConversationChain chain...\u001b[0m\n",
      "Prompt after formatting:\n",
      "\u001b[32;1m\u001b[1;3m\n",
      "    Essa é a uma conversa amigavel entre um humano e uma IA.\n",
      "    Responda em português.\n",
      "\n",
      "    Conversa atual:\n",
      "                                                  \n",
      "    Human:Olá\n",
      "    AI:\n",
      "\u001b[0m\n",
      "\n",
      "\u001b[1m> Finished chain.\u001b[0m\n"
     ]
    },
    {
     "data": {
      "text/plain": [
       "'AI: Olá! Como vai?'"
      ]
     },
     "execution_count": 10,
     "metadata": {},
     "output_type": "execute_result"
    }
   ],
   "source": [
    "chain.predict(input=\"Olá\")"
   ]
  },
  {
   "cell_type": "markdown",
   "id": "7d11a818",
   "metadata": {},
   "source": [
    "### LLM Chain"
   ]
  },
  {
   "cell_type": "code",
   "execution_count": 11,
   "id": "e70f6ac8",
   "metadata": {},
   "outputs": [],
   "source": [
    "from langchain_ollama import ChatOllama\n",
    "from langchain.memory import ConversationBufferMemory\n",
    "from langchain.chains.llm import LLMChain\n",
    "\n",
    "chat = chat = ChatOllama(model=\"llama3:8b\")"
   ]
  },
  {
   "cell_type": "code",
   "execution_count": 12,
   "id": "f4055fdf",
   "metadata": {},
   "outputs": [
    {
     "name": "stderr",
     "output_type": "stream",
     "text": [
      "C:\\Users\\frpbo\\AppData\\Local\\Temp\\ipykernel_6428\\1662884878.py:6: LangChainDeprecationWarning: The class `LLMChain` was deprecated in LangChain 0.1.17 and will be removed in 1.0. Use :meth:`~RunnableSequence, e.g., `prompt | llm`` instead.\n",
      "  chain = LLMChain(llm=chat, prompt=prompt)\n",
      "C:\\Users\\frpbo\\AppData\\Local\\Temp\\ipykernel_6428\\1662884878.py:8: LangChainDeprecationWarning: The method `Chain.run` was deprecated in langchain 0.1.0 and will be removed in 1.0. Use :meth:`~invoke` instead.\n",
      "  chain.run(produto)\n"
     ]
    },
    {
     "data": {
      "text/plain": [
       "'Que desafio legal!\\n\\nAqui estão algumas sugestões de nomes para a sua empresa:\\n\\n1. **Hybrida Energia**: combina a ideia de carro híbrido com o conceito de energia renovável.\\n2. **Ecocarros**: uma abreviação que conjuga \"eco\" (ecologia) e \"carros\" para transmitir a mensagem de sustentabilidade.\\n3. **EcoMotion**: nome que combina \"eco\" (ecologia) com \"motion\" (movimento) para criar um termo que evoca a ideia de carros híbridos movendo-se em direção a uma melhor sustentabilidade.\\n4. **GreenDrive**: nome que destaca a ênfase na sustentabilidade e no uso eficiente da energia, com \"green\" (verde) e \"drive\" (dirigir).\\n5. **Carro Verde Sustentável** (ou CVS): um nome simples e direto que comunica a proposta de sustentabilidade.\\n6. **Inovação Mobilidade**: um nome que destaca a inovação e a mobilidade, transmitindo a ideia de soluções inovadoras para o setor de carros híbridos.\\n7. **EcoRides**: uma abreviação que combina \"eco\" (ecologia) com \"rides\" (viagens) para criar um termo divertido e memorável.\\n\\nQual é a sua preferência?'"
      ]
     },
     "execution_count": 12,
     "metadata": {},
     "output_type": "execute_result"
    }
   ],
   "source": [
    "prompt = PromptTemplate.from_template(\"\"\"\n",
    "    Escolha o melhor nome para mim sobre uma emprsa que desenvolve soluções em {produto}\n",
    "    Em português\n",
    "\"\"\")\n",
    "\n",
    "chain = LLMChain(llm=chat, prompt=prompt)\n",
    "produto =  \"Carros hibridos\"\n",
    "chain.run(produto)"
   ]
  },
  {
   "cell_type": "markdown",
   "id": "126b4f6f",
   "metadata": {},
   "source": [
    "### Simple Sequential Chain"
   ]
  },
  {
   "cell_type": "code",
   "execution_count": 21,
   "id": "a4ce5922",
   "metadata": {},
   "outputs": [],
   "source": [
    "from langchain_ollama import ChatOllama\n",
    "from langchain.memory import ConversationBufferMemory\n",
    "from langchain.chains.sequential import SimpleSequentialChain, SequentialChain\n",
    "\n",
    "chat = chat = ChatOllama(model=\"llama3:8b\")"
   ]
  },
  {
   "cell_type": "code",
   "execution_count": 18,
   "id": "2d179a89",
   "metadata": {},
   "outputs": [],
   "source": [
    "prompt = PromptTemplate.from_template(\"\"\"\n",
    "    Escolha o melhor nome para mim sobre uma emprsa que desenvolve soluções em {produto}\n",
    "    Em português\n",
    "\"\"\")\n",
    "chain_nome = LLMChain(llm=chat, prompt=prompt)\n",
    "\n",
    "\n",
    "prompt_description = PromptTemplate.from_template(\"\"\"\n",
    "    Sobre a empresa com nome{nome_empresa}\n",
    "    Informe uma descrição de até 20 palavras\n",
    "    Em português\n",
    "\"\"\")\n",
    "\n",
    "chain_descripiton = LLMChain(llm=chat, prompt=prompt_description)\n"
   ]
  },
  {
   "cell_type": "code",
   "execution_count": 19,
   "id": "9f398fee",
   "metadata": {},
   "outputs": [
    {
     "name": "stdout",
     "output_type": "stream",
     "text": [
      "\n",
      "\n",
      "\u001b[1m> Entering new SimpleSequentialChain chain...\u001b[0m\n",
      "\u001b[36;1m\u001b[1;3mUm desafio divertido!\n",
      "\n",
      "Aqui estão algumas sugestões de nomes para sua empresa que desenvolve soluções em carros híbridos:\n",
      "\n",
      "1. **Hybridia**: uma combinação das palavras \"híbrido\" e \"inovação\", sugerindo a busca por novas soluções.\n",
      "2. **GreenDrive**: um nome que combina a preocupação com o meio ambiente (green) com a ideia de dirigir (drive), enfatizando a eficiência energética dos carros híbridos.\n",
      "3. **EcoMobil**: uma combinação das palavras \"ecológico\" e \"mobilidade\", ressaltando a preocupação com o ambiente e a mobilidade urbana.\n",
      "4. **Hybridium**: um nome que combina as palavras \"híbrido\" e \"universo\", sugerindo a capacidade da empresa de criar soluções universais para carros híbridos.\n",
      "5. **Energia Verde**: um nome que destaca a energia renovável e a sustentabilidade, associando à ideia de carros híbridos.\n",
      "6. **MobiHib**: uma combinação das palavras \"mobilidade\" e \"híbrido\", ressaltando a capacidade da empresa de criar soluções para carros híbridos que promovem mobilidade sustentável.\n",
      "7. **InnoVehicula**: um nome que combina as palavras \"inovação\" e \"veículo\", sugerindo a busca por soluções inovadoras para carros híbridos.\n",
      "\n",
      "Qual é o seu preference?\u001b[0m\n",
      "\u001b[33;1m\u001b[1;3mEntendi!\n",
      "\n",
      "Para mim, o nome mais atraente é **GreenDrive**. Ele combina perfeitamente a preocupação com o meio ambiente e a mobilidade urbana, enfatizando a eficiência energética dos carros híbridos.\n",
      "\n",
      "\"Empreendimento que desenvolve soluções inovadoras para carros híbridos, priorizando sustentabilidade e redução de impacto ambiental.\"\u001b[0m\n",
      "\n",
      "\u001b[1m> Finished chain.\u001b[0m\n"
     ]
    },
    {
     "data": {
      "text/plain": [
       "'Entendi!\\n\\nPara mim, o nome mais atraente é **GreenDrive**. Ele combina perfeitamente a preocupação com o meio ambiente e a mobilidade urbana, enfatizando a eficiência energética dos carros híbridos.\\n\\n\"Empreendimento que desenvolve soluções inovadoras para carros híbridos, priorizando sustentabilidade e redução de impacto ambiental.\"'"
      ]
     },
     "execution_count": 19,
     "metadata": {},
     "output_type": "execute_result"
    }
   ],
   "source": [
    "\n",
    "chain = SimpleSequentialChain(\n",
    "    chains=[chain_nome,chain_descripiton],\n",
    "    verbose=True\n",
    ")\n",
    "produto =  \"Carros hibridos\"\n",
    "chain.run(input=produto)"
   ]
  },
  {
   "cell_type": "markdown",
   "id": "4ede0401",
   "metadata": {},
   "source": [
    "### Senquential Chain"
   ]
  },
  {
   "cell_type": "code",
   "execution_count": 28,
   "id": "4aee4841",
   "metadata": {},
   "outputs": [],
   "source": [
    "prompt = PromptTemplate.from_template(\"\"\"\n",
    "    Qual um bom nome de emprsa que desenvolve soluções em {produto}\n",
    "    Em português\n",
    "\"\"\")\n",
    "chain_nome = LLMChain(llm=chat, prompt=prompt, output_key=\"nome_empresa\")\n",
    "\n",
    "\n",
    "prompt_description = PromptTemplate.from_template(\"\"\"\n",
    "    Sobre a empresa com nome{nome_empresa}\n",
    "    Informe uma descrição de até 20 palavras\n",
    "    Em português\n",
    "\"\"\")\n",
    "\n",
    "chain_descripiton = LLMChain(llm=chat, prompt=prompt_description, output_key=\"descricao_empresa\")\n",
    "\n",
    "\n",
    "prompt_traducao = PromptTemplate.from_template(\"\"\"\n",
    "    Crie um nome em espanhol para empresa de nome {nome_empresa}\n",
    "    que possui a seguinte descrição {descricao_empresa}\n",
    "\"\"\")\n",
    "\n",
    "chain_traducao = LLMChain(llm=chat, prompt=prompt_traducao, output_key=\"nome_espanhol\")\n"
   ]
  },
  {
   "cell_type": "code",
   "execution_count": 29,
   "id": "5ddcb0af",
   "metadata": {},
   "outputs": [
    {
     "name": "stdout",
     "output_type": "stream",
     "text": [
      "\n",
      "\n",
      "\u001b[1m> Entering new SequentialChain chain...\u001b[0m\n",
      "\n",
      "\u001b[1m> Finished chain.\u001b[0m\n"
     ]
    },
    {
     "data": {
      "text/plain": [
       "{'produto': 'Carros hibridos',\n",
       " 'nome_empresa': 'Aqui estão algumas sugestões de nomes para uma empresa que desenvolve soluções em carros híbridos:\\n\\n1. **Hybrid Motors**: Um nome direto e simples que destaca a especialização da empresa nos motores híbridos.\\n2. **EcoMobilis**: Uma combinação de \"eco\" (ecológico) e \"mobilis\" (em movimento), sugerindo uma empresa que se concentra em soluções para veículos mais sustentáveis.\\n3. **Green Drive Technologies**: Um nome que destaca a ênfase na sustentabilidade e tecnologia, sugerindo uma empresa que desenvolve inovações para melhorar a eficiência dos carros híbridos.\\n4. **Hibridia**: Uma combinação de \"híbrido\" e o sufixo \"-ia\", sugerindo uma empresa que se especializa em soluções híbridas para veículos.\\n5. **Renova Energia**: Um nome que destaca a ênfase na renovação da energia e no uso sostenível dos recursos, sugerindo uma empresa que desenvolve soluções para reduzir o impacto ambiental dos carros.\\n6. **Carro Verde**: Um nome simples e direto que destaca a ênfase na sustentabilidade e no ambiente, sugerindo uma empresa que se concentra em desenvolver soluções para veículos mais ecológicos.\\n7. **InnoMotors**: Um nome que destaca a inovação e a tecnologia, sugerindo uma empresa que desenvolve novas soluções para melhorar a eficiência dos carros híbridos.\\n8. **Sustento Automotive**: Um nome que destaca a ênfase na sustentabilidade e no desempenho ambiental, sugerindo uma empresa que se concentra em desenvolver soluções para veículos mais sustentáveis.\\n\\nEspero que essas sugestões ajudem!',\n",
       " 'descricao_empresa': '**Desenvolvendo tecnologias inovadoras e sustentáveis para carros híbridos, priorizando a eficiência energética e o impacto ambiental reduzido.**',\n",
       " 'nome_espanhol': 'Aqui estão algumas sugestões de nomes em espanhol para a empresa:\\n\\n1. **Motivos Sustentables**: Un nombre que destaca la sostenibilidad y el enfoque en la eficiencia energética.\\n2. **Energía Verde Motors**: Un nombre que combina el concepto de sostenibilidad con el desarrollo de motores híbridos.\\n3. **Innovación Vehicular S.A.**: Un nombre que destaca la inovación y la especialización en tecnologías para vehículos híbridos.\\n4. **Hibridia Energética**: Un nombre que combina el concepto de híbrido con el enfoque en la eficiencia energética.\\n5. **Renova Motors**: Un nombre que destaca la renovación y el desarrollo sostenible para vehículos híbridos.\\n6. **Sustento Automotriz**: Un nombre que destaca la sostenibilidad y el enfoque en la reducción del impacto ambiental.\\n7. **EcoMotivos**: Un nombre que combina el concepto de ecológico con el desarrollo de motores híbridos.\\n8. **Tecnología Sustentable Vehículos** (TSV): Un nombre que destaca la tecnología y la sostenibilidad en el desarrollo de vehículos híbridos.\\n\\nEspero que estas sugestiones te sean útiles para encontrar el nombre adecuado para tu empresa!'}"
      ]
     },
     "execution_count": 29,
     "metadata": {},
     "output_type": "execute_result"
    }
   ],
   "source": [
    "chain = SequentialChain(\n",
    "    chains=[chain_nome,chain_descripiton,chain_traducao],\n",
    "    input_variables=[\"produto\"],\n",
    "    output_variables=[\"nome_empresa\",\"descricao_empresa\",\"nome_espanhol\"],\n",
    "    verbose=True\n",
    ")\n",
    "produto =  \"Carros hibridos\"\n",
    "chain.invoke(input=produto)"
   ]
  }
 ],
 "metadata": {
  "kernelspec": {
   "display_name": "venv",
   "language": "python",
   "name": "python3"
  },
  "language_info": {
   "codemirror_mode": {
    "name": "ipython",
    "version": 3
   },
   "file_extension": ".py",
   "mimetype": "text/x-python",
   "name": "python",
   "nbconvert_exporter": "python",
   "pygments_lexer": "ipython3",
   "version": "3.12.6"
  }
 },
 "nbformat": 4,
 "nbformat_minor": 5
}
