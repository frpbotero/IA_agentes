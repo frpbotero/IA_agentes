{
 "cells": [
  {
   "cell_type": "markdown",
   "id": "5f177ecf",
   "metadata": {},
   "source": [
    "## Import libs"
   ]
  },
  {
   "cell_type": "code",
   "execution_count": null,
   "id": "9c5e214d",
   "metadata": {},
   "outputs": [],
   "source": [
    "from langchain_community.document_loaders.pdf import PyPDFLoader\n",
    "\n",
    "\n",
    "file = 'files/apostila.pdf'\n",
    "loader = PyPDFLoader(file)\n",
    "documments = loader.load() "
   ]
  },
  {
   "cell_type": "code",
   "execution_count": null,
   "id": "8cfc8cdf",
   "metadata": {},
   "outputs": [],
   "source": [
    "len(documments)"
   ]
  },
  {
   "cell_type": "code",
   "execution_count": null,
   "id": "c5f95bea",
   "metadata": {},
   "outputs": [],
   "source": [
    "documments[0]"
   ]
  },
  {
   "cell_type": "code",
   "execution_count": null,
   "id": "e70727fb",
   "metadata": {},
   "outputs": [],
   "source": [
    "documments[5].page_content"
   ]
  },
  {
   "cell_type": "markdown",
   "id": "d4cd1c8f",
   "metadata": {},
   "source": [
    "## Carregando "
   ]
  },
  {
   "cell_type": "code",
   "execution_count": null,
   "id": "f076f701",
   "metadata": {},
   "outputs": [],
   "source": [
    "from langchain.chains.question_answering import load_qa_chain\n",
    "from langchain_openai.chat_models import ChatOpenAI\n",
    "\n",
    "chat = ChatOpenAI(model='gpt-3.5-turbo-0125')\n",
    "\n",
    "chain = load_qa_chain(llm=chat, chain_type='stuff',verbose=True)"
   ]
  },
  {
   "cell_type": "code",
   "execution_count": null,
   "id": "282776b8",
   "metadata": {},
   "outputs": [],
   "source": [
    "question_user = \"Do que se trata esse documento?\"\n",
    "\n",
    "chain.run(input_documents = documments[:8], question=question_user)"
   ]
  },
  {
   "cell_type": "markdown",
   "id": "518f22e2",
   "metadata": {},
   "source": [
    "### Load csv file"
   ]
  },
  {
   "cell_type": "code",
   "execution_count": null,
   "id": "8edc41b3",
   "metadata": {},
   "outputs": [],
   "source": [
    "from langchain_community.document_loaders.csv_loader import CSVLoader\n",
    "\n",
    "csv_file = 'files/imdb_movies.csv'\n",
    "loader_csv = CSVLoader(csv_file)\n",
    "csv_documents = loader_csv.load()"
   ]
  },
  {
   "cell_type": "code",
   "execution_count": null,
   "id": "091c896b",
   "metadata": {},
   "outputs": [],
   "source": [
    "len(csv_documents)"
   ]
  },
  {
   "cell_type": "code",
   "execution_count": null,
   "id": "0e5f146c",
   "metadata": {},
   "outputs": [],
   "source": [
    "csv_documents[80].metadata"
   ]
  },
  {
   "cell_type": "code",
   "execution_count": null,
   "id": "77ecbc56",
   "metadata": {},
   "outputs": [],
   "source": [
    "question_user = \"Qual filme com menor e maior metascore?\"\n",
    "chain.run(input_documents=csv_documents[:10], question=question_user)"
   ]
  },
  {
   "cell_type": "markdown",
   "id": "2ab4f4bf",
   "metadata": {},
   "source": [
    "### Carregando videos do Youtube"
   ]
  },
  {
   "cell_type": "code",
   "execution_count": null,
   "id": "0c442a4a",
   "metadata": {},
   "outputs": [],
   "source": [
    "from langchain_community.document_loaders.generic import GenericLoader\n",
    "from langchain_community.document_loaders.blob_loaders.youtube_audio import YoutubeAudioLoader\n",
    "from langchain.document_loaders.parsers import OpenAIWhisperParser"
   ]
  },
  {
   "cell_type": "code",
   "execution_count": null,
   "id": "76e47eef",
   "metadata": {},
   "outputs": [],
   "source": [
    "url = \"https://www.youtube.com/watch?v=b0Hpj-RW5KE\"\n",
    "save_dir = \"files/youtube\"\n",
    "loader_video = GenericLoader(\n",
    "    YoutubeAudioLoader([url],save_dir),\n",
    "    OpenAIWhisperParser()\n",
    ")\n",
    "docs_video = loader_video.load()"
   ]
  },
  {
   "cell_type": "code",
   "execution_count": null,
   "id": "d029f46b",
   "metadata": {},
   "outputs": [],
   "source": [
    "len(docs_video)"
   ]
  },
  {
   "cell_type": "code",
   "execution_count": null,
   "id": "0049143e",
   "metadata": {},
   "outputs": [],
   "source": [
    "docs_video[0].page_content"
   ]
  },
  {
   "cell_type": "code",
   "execution_count": null,
   "id": "bc243425",
   "metadata": {},
   "outputs": [],
   "source": [
    "question_user = \"Faça um resumo breve desse video para mim\"\n",
    "chain.run(input_documents=docs_video, question=question_user)"
   ]
  },
  {
   "cell_type": "markdown",
   "id": "d5acc40a",
   "metadata": {},
   "source": [
    "## Web via URL"
   ]
  },
  {
   "cell_type": "code",
   "execution_count": 2,
   "id": "992e2679",
   "metadata": {},
   "outputs": [
    {
     "name": "stderr",
     "output_type": "stream",
     "text": [
      "USER_AGENT environment variable not set, consider setting it to identify your requests.\n"
     ]
    }
   ],
   "source": [
    "from langchain_community.document_loaders.web_base import WebBaseLoader\n",
    "url_web = \"https://medium.com/primastat/building-agentic-applications-with-langgraph-part-1-tabular-ocr-agent-6ba81a6c0862\"\n",
    "loader_web = WebBaseLoader(url_web)\n",
    "documents_web = loader_web.load()"
   ]
  },
  {
   "cell_type": "code",
   "execution_count": 3,
   "id": "e8ee3b0a",
   "metadata": {},
   "outputs": [
    {
     "data": {
      "text/plain": [
       "1"
      ]
     },
     "execution_count": 3,
     "metadata": {},
     "output_type": "execute_result"
    }
   ],
   "source": [
    "len(documents_web)"
   ]
  },
  {
   "cell_type": "code",
   "execution_count": 4,
   "id": "1fec36c1",
   "metadata": {},
   "outputs": [
    {
     "data": {
      "text/plain": [
       "'Building Agentic Applications with LangGraph: Part 1 — Tabular OCR Agent | by Shivansh Kaushik | Primastat | MediumSitemapOpen in appSign upSign inMedium LogoWriteSign upSign inPrimastat·At Primastat, we harness the power of data and AI to drive innovation. We are dedicated to exploring the latest trends, techniques, and tools in data analytics and AI solutions.Zoom image will be displayedMember-only storyBuilding Agentic Applications with LangGraph: Part 1 — Tabular OCR AgentExtract tabular tex'"
      ]
     },
     "execution_count": 4,
     "metadata": {},
     "output_type": "execute_result"
    }
   ],
   "source": [
    "documents_web[0].page_content[:500]"
   ]
  },
  {
   "cell_type": "code",
   "execution_count": null,
   "id": "34e96c29",
   "metadata": {},
   "outputs": [],
   "source": [
    "question_user = \"Resuma os pontos principais desse documento\"\n",
    "chain.run(input_documents=documents_web, question=question_user)\n"
   ]
  },
  {
   "cell_type": "code",
   "execution_count": 1,
   "id": "637e45ca",
   "metadata": {},
   "outputs": [
    {
     "name": "stderr",
     "output_type": "stream",
     "text": [
      "/tmp/ipykernel_411682/2870935707.py:5: LangChainDeprecationWarning: This class is deprecated. See the following migration guides for replacements based on `chain_type`:\n",
      "stuff: https://python.langchain.com/docs/versions/migrating_chains/stuff_docs_chain\n",
      "map_reduce: https://python.langchain.com/docs/versions/migrating_chains/map_reduce_chain\n",
      "refine: https://python.langchain.com/docs/versions/migrating_chains/refine_chain\n",
      "map_rerank: https://python.langchain.com/docs/versions/migrating_chains/map_rerank_docs_chain\n",
      "\n",
      "See also guides on retrieval and question-answering here: https://python.langchain.com/docs/how_to/#qa-with-rag\n",
      "  chain_ollama = load_qa_chain(llm=chat_ollama, chain_type='stuff',verbose=True)\n"
     ]
    }
   ],
   "source": [
    "from langchain_ollama import ChatOllama\n",
    "from langchain.chains.question_answering import load_qa_chain\n",
    "\n",
    "chat_ollama = ChatOllama(model=\"splitpierre/bode-alpaca-pt-br:latest\")\n",
    "chain_ollama = load_qa_chain(llm=chat_ollama, chain_type='stuff',verbose=True)"
   ]
  },
  {
   "cell_type": "code",
   "execution_count": 5,
   "id": "615547e4",
   "metadata": {},
   "outputs": [
    {
     "name": "stderr",
     "output_type": "stream",
     "text": [
      "/tmp/ipykernel_411682/3219570124.py:2: LangChainDeprecationWarning: The method `Chain.run` was deprecated in langchain 0.1.0 and will be removed in 1.0. Use :meth:`~invoke` instead.\n",
      "  chain_ollama.run(input_documents=documents_web, question=question_user)\n"
     ]
    },
    {
     "name": "stdout",
     "output_type": "stream",
     "text": [
      "\n",
      "\n",
      "\u001b[1m> Entering new StuffDocumentsChain chain...\u001b[0m\n",
      "\n",
      "\n",
      "\u001b[1m> Entering new LLMChain chain...\u001b[0m\n",
      "Prompt after formatting:\n",
      "\u001b[32;1m\u001b[1;3mSystem: Use the following pieces of context to answer the user's question.\n",
      "If you don't know the answer, just say that you don't know, don't try to make up an answer.\n",
      "----------------\n",
      "Building Agentic Applications with LangGraph: Part 1 — Tabular OCR Agent | by Shivansh Kaushik | Primastat | MediumSitemapOpen in appSign upSign inMedium LogoWriteSign upSign inPrimastat·At Primastat, we harness the power of data and AI to drive innovation. We are dedicated to exploring the latest trends, techniques, and tools in data analytics and AI solutions.Zoom image will be displayedMember-only storyBuilding Agentic Applications with LangGraph: Part 1 — Tabular OCR AgentExtract tabular text in a structured format using LangGraph and Tesseract OCR.Shivansh Kaushik8 min read·Sep 16, 2024--1Share🦜🕸️LangGraphLangGraph is a powerful library designed for building stateful, multi-agent applications with large language models (LLMs). Unlike other LLM frameworks, LangGraph offers unique benefits like cycles, controllability, and persistence, making it ideal for agent-based architectures. It allows developers to create workflows with loops and conditions, offering fine-grained control over application flow and state.LangGraph proves to be a powerful addition to the LangChain suite by providing very precise control over agentic applications using few lines of code. I personally find LangGraph the most suitable framework for building multi-agent applications, a major credit goes to the level of control it provides the developer which is not the case with other frameworks in the market (Autogen, crewAI). But the choice varies from person to person, I would recommend you to try different frameworks and then decide what suits you the best, for now, let’s get started with building a basic agentic application using LangGraph.ScopeIn this article, we’ll build a basic(kind of) function calling agent using LangGraph, which would help us interact with images containing tabular data. We’ll use OCR (Optical Character Recognition) to extract text from images and build our own custom tool which would then be used by our agent to answer user queries.LangGraph — Key ConceptsAt its core, LangGraph models agent workflows as graphs. You define the behaviour of your agents using three key components:State: A shared data structure that represents the current snapshot of your application. It can be any Python type, but is typically a TypedDict or Pydantic BaseModel.Nodes: Python functions that encode the logic of your agents. They receive the current State as input, perform some computation or side-effect, and return an updated State.Edges: Python functions that determine which Node to execute next based on the current State…----1Published in Primastat28 followers·Last published Mar 19, 2025At Primastat, we harness the power of data and AI to drive innovation. We are dedicated to exploring the latest trends, techniques, and tools in data analytics and AI solutions.Written by Shivansh Kaushik236 followers·6 followingML Engineer and innovator, on a mission to create a positive impact in the world using the powers of AI.Responses (1)See all responsesHelpStatusAboutCareersPressBlogPrivacyRulesTermsText to speech\n",
      "\n",
      "\n",
      "\n",
      "\n",
      "\n",
      "\n",
      "\n",
      "\n",
      "\n",
      "\n",
      "\n",
      "\n",
      "\n",
      "\n",
      "\n",
      "\n",
      "\n",
      "\n",
      "\n",
      "\n",
      "\n",
      "\n",
      "\n",
      "\n",
      "\n",
      "\n",
      "\n",
      "\n",
      "\n",
      "\n",
      "\n",
      "\n",
      "\n",
      "\n",
      "\n",
      "\n",
      "\n",
      "\n",
      "Human: Resuma os pontos principais desse documento\u001b[0m\n",
      "\n",
      "\u001b[1m> Finished chain.\u001b[0m\n",
      "\n",
      "\u001b[1m> Finished chain.\u001b[0m\n"
     ]
    },
    {
     "data": {
      "text/plain": [
       "'Este documento discute como criar um agente usando a biblioteca LangGraph. A LangGraph é uma biblioteca de Python que fornece um ambiente de programação para construir aplicativos multi-agentes. No documento, o autor explica como utilizar a biblioteca LangGraph para criar um agente e fornece exemplos de códigos para demonstrar seus conceitos fundamentais. A biblioteca LangGraph oferece recursos únicos para criar agentes com precisão e controle, permitindo que os desenvolvedores controlem o fluxo e a saída de suas aplicativos.'"
      ]
     },
     "execution_count": 5,
     "metadata": {},
     "output_type": "execute_result"
    }
   ],
   "source": [
    "question_user = \"Resuma os pontos principais desse documento\"\n",
    "chain_ollama.run(input_documents=documents_web, question=question_user)\n"
   ]
  }
 ],
 "metadata": {
  "kernelspec": {
   "display_name": "venv",
   "language": "python",
   "name": "python3"
  },
  "language_info": {
   "codemirror_mode": {
    "name": "ipython",
    "version": 3
   },
   "file_extension": ".py",
   "mimetype": "text/x-python",
   "name": "python",
   "nbconvert_exporter": "python",
   "pygments_lexer": "ipython3",
   "version": "3.10.12"
  }
 },
 "nbformat": 4,
 "nbformat_minor": 5
}
