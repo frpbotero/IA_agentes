{
 "cells": [
  {
   "cell_type": "code",
   "execution_count": null,
   "id": "04bcbf88",
   "metadata": {},
   "outputs": [],
   "source": [
    "from langchain_core.prompts import ChatPromptTemplate   \n",
    "from langchain_ollama import ChatOllama\n"
   ]
  },
  {
   "cell_type": "code",
   "execution_count": 12,
   "id": "2fea8722",
   "metadata": {},
   "outputs": [],
   "source": [
    "chat = ChatOllama(model=\"deepseek-r1:7b\")\n",
    "\n"
   ]
  },
  {
   "cell_type": "code",
   "execution_count": 22,
   "id": "a07929b9",
   "metadata": {},
   "outputs": [],
   "source": [
    "feedback_ang = \"\"\"\n",
    "Após passar um tempo de qualidade com o novo Samsung S24, posso dizer com confiança que este dispositivo é um verdadeiro divisor de águas. Desde o momento em que você o pega, a qualidade de construção premium é imediatamente aparente; ele parece sólido e elegantemente projetado na mão. A tela Dynamic AMOLED 2X é absolutamente deslumbrante, oferecendo cores incrivelmente vibrantes e pretos profundos, tornando tudo, desde a transmissão de conteúdo em alta definição até a navegação em redes sociais, uma alegria absoluta. A taxa de atualização adaptativa de 120Hz garante rolagem e capacidade de resposta incrivelmente suaves, o que é uma grande vantagem para o uso diário e jogos.\n",
    "\n",
    "Em termos de desempenho, o S24, alimentado pelo chip Snapdragon/Exynos mais recente (dependendo da região), lida com tudo o que eu o coloco com notável facilidade. A multitarefa é perfeita, e aplicativos ou jogos exigentes rodam sem problemas, sem qualquer lentidão perceptível. O sistema de câmera é, como esperado da Samsung, de primeira linha. As fotos são consistentemente nítidas, bem expostas e possuem excelente faixa dinâmica. O desempenho em baixa luz teve melhorias notáveis, capturando detalhes mesmo em condições desafiadoras. Recursos como aprimoramentos de fotos com IA e vários modos pro adicionam ainda mais versatilidade.\n",
    "\n",
    "Além disso, a vida útil da bateria, embora não seja inovadora, é confiavelmente boa, facilmente durando um dia inteiro de uso moderado a intenso. A integração de recursos de IA, especialmente para produtividade e comunicação, parece intuitiva e genuinamente útil, aprimorando a experiência geral do usuário sem parecer artificial. O compromisso da Samsung com atualizações de software de longo prazo também proporciona tranquilidade. O S24 realmente se destaca como um dispositivo que cumpre em todas as frentes, oferecendo uma experiência de smartphone premium e altamente capaz.\n",
    "\"\"\"\n",
    "\n",
    "feedback_eng = \"\"\"\n",
    "    Após um uso extensivo, minha impressão geral do Samsung S24 é mista. Embora seja inegavelmente um smartphone competente, parece mais uma atualização incremental do que uma inovação revolucionária. Minha maior queixa gira em torno da linguagem de design – está se tornando um pouco repetitiva. Embora elegante, não se destaca realmente das gerações anteriores, especialmente quando comparado a concorrentes que estão buscando estéticas mais distintas.\n",
    "\n",
    "A vida útil da bateria é talvez o aspecto mais decepcionante. Para um carro-chefe em 2024, eu esperava mais. Ele tem dificuldade em durar consistentemente um dia inteiro com uso intenso, forçando-me a recarregar com frequência, o que pode ser inconveniente quando estou fora. Embora a tela seja bonita, é um pequeno refinamento em relação ao seu antecessor, e não senti um fator 'uau' significativo.\n",
    "\n",
    "O desempenho é sólido, sim, mas para o preço premium, não notei uma melhoria drástica que justificaria um upgrade de um flagship Samsung relativamente recente como o S22 ou S23. Os recursos de IA, embora muito divulgados, muitas vezes parecem pequenas conveniências em vez de ferramentas essenciais. Alguns deles são interessantes, mas muitos parecem recursos que eu usaria uma ou duas vezes e depois esqueceria, aumentando a complexidade do telefone sem um benefício claro. O sistema de câmera, embora bom, não parece um grande salto em comparação com o que já está no mercado, particularmente em certas faixas de zoom ou cenários de baixa luz muito desafiadores.\n",
    "\n",
    "Em última análise, o S24 é um bom telefone, mas pelo seu custo, não oferece razões convincentes o suficiente para que os usuários Samsung existentes façam um upgrade, e ele tem dificuldade em se diferenciar verdadeiramente em um mercado de smartphones premium altamente competitivo. Ele joga pelo seguro, e às vezes o seguro não é o suficiente para justificar o preço.\n",
    "\"\"\""
   ]
  },
  {
   "cell_type": "code",
   "execution_count": null,
   "id": "bb49036c",
   "metadata": {},
   "outputs": [],
   "source": [
    "review_templata = ChatPromptTemplate.from_template (\"\"\"\n",
    "    Para o texto a seguir, extraia as seguintes informações:\n",
    "    produto: Nome do produto mencionado no texto.\n",
    "    caracteristicas_positivas:  Liste todas as caracteristicas positivas mencionadas sobre o produto.\n",
    "    caracteristicas_negativas Liste todas as caracteristicas negativas mencionadas sobre o produto.\n",
    "    recomendação: O cliente recomenda o produto? Responda True para sim e False para não.           \n",
    "\n",
    "    Texto: {review}\n",
    "                                                    \n",
    "    Retorne a resposta no formato JSON\n",
    "\"\"\")"
   ]
  },
  {
   "cell_type": "code",
   "execution_count": 23,
   "id": "ce8cff44",
   "metadata": {},
   "outputs": [
    {
     "name": "stdout",
     "output_type": "stream",
     "text": [
      "[HumanMessage(content='\\n    Para o texto a seguir, extraia as seguintes informações:\\n    produto: Nome do produto mencionado no texto.\\n    caracteristicas_positivas:  Liste todas as caracteristicas positivas mencionadas sobre o produto.\\n    caracteristicas_negativas Liste todas as caracteristicas negativas mencionadas sobre o produto.\\n    recomendação: O cliente recomenda o produto? Responda True para sim e False para não.           \\n\\n    Texto: \\nApós passar um tempo de qualidade com o novo Samsung S24, posso dizer com confiança que este dispositivo é um verdadeiro divisor de águas. Desde o momento em que você o pega, a qualidade de construção premium é imediatamente aparente; ele parece sólido e elegantemente projetado na mão. A tela Dynamic AMOLED 2X é absolutamente deslumbrante, oferecendo cores incrivelmente vibrantes e pretos profundos, tornando tudo, desde a transmissão de conteúdo em alta definição até a navegação em redes sociais, uma alegria absoluta. A taxa de atualização adaptativa de 120Hz garante rolagem e capacidade de resposta incrivelmente suaves, o que é uma grande vantagem para o uso diário e jogos.\\n\\nEm termos de desempenho, o S24, alimentado pelo chip Snapdragon/Exynos mais recente (dependendo da região), lida com tudo o que eu o coloco com notável facilidade. A multitarefa é perfeita, e aplicativos ou jogos exigentes rodam sem problemas, sem qualquer lentidão perceptível. O sistema de câmera é, como esperado da Samsung, de primeira linha. As fotos são consistentemente nítidas, bem expostas e possuem excelente faixa dinâmica. O desempenho em baixa luz teve melhorias notáveis, capturando detalhes mesmo em condições desafiadoras. Recursos como aprimoramentos de fotos com IA e vários modos pro adicionam ainda mais versatilidade.\\n\\nAlém disso, a vida útil da bateria, embora não seja inovadora, é confiavelmente boa, facilmente durando um dia inteiro de uso moderado a intenso. A integração de recursos de IA, especialmente para produtividade e comunicação, parece intuitiva e genuinamente útil, aprimorando a experiência geral do usuário sem parecer artificial. O compromisso da Samsung com atualizações de software de longo prazo também proporciona tranquilidade. O S24 realmente se destaca como um dispositivo que cumpre em todas as frentes, oferecendo uma experiência de smartphone premium e altamente capaz.\\n\\n\\n    Retorne a resposta no formato JSON\\n', additional_kwargs={}, response_metadata={})]\n"
     ]
    }
   ],
   "source": [
    "print(review_templata.format_messages(review=feedback_ang))"
   ]
  },
  {
   "cell_type": "code",
   "execution_count": null,
   "id": "ac976f61",
   "metadata": {},
   "outputs": [],
   "source": [
    "response = chat.invoke(review_templata.format_messages(review=feedback_ang))"
   ]
  },
  {
   "cell_type": "code",
   "execution_count": 19,
   "id": "1926cc5d",
   "metadata": {},
   "outputs": [
    {
     "name": "stdout",
     "output_type": "stream",
     "text": [
      "<think>\n",
      "Primeiro, leio o texto para entender as opiniões sobre o produto. Vejo que o cliente menciona que o produto é lindo e possui uma construção maravilhosa e premium, o que são pontos positivos.\n",
      "\n",
      "Em seguida, ele fala sobre as câmeras, configurações e tela sendo perfeitas, adicionando mais características positivas. No entanto, ele destacou a bat Origem como um desmo, mencionando que frequentemente precisa recargar pelo menos uma vez diariamente, o que é negativo.\n",
      "\n",
      "O cliente também aponta que embora o produto tenha algumasvantades, não leva para ele dissertar ou recusar de fato adicionar mais características positivas ou negativas adicionais.\n",
      "\n",
      "Finalmente, ao se perguntar se o cliente recomenda o produto, acredito que sim, especialmente se o principal problema (a baixa duração da bateria) não é um showstopper e o resto dos pontos são muito favoráveis.\n",
      "</think>\n",
      "\n",
      "```json\n",
      "{\n",
      "    \"produto\": \"O aparelho\",\n",
      "    \"características_positivas\": [\"Lindinho\", \"Construção maravilhosa\", \"Premium\"],\n",
      "    \"características_negativas\": [\"Bat Origem é fraca\", \"Depende do uso, algumas vezes duas cargas no mesmo dia\", \"Esquenta um pouco\"],\n",
      "    \"recomendação\": True\n",
      "}\n",
      "```\n"
     ]
    }
   ],
   "source": [
    "print(response.content)"
   ]
  },
  {
   "cell_type": "code",
   "execution_count": 21,
   "id": "fd036fb3",
   "metadata": {},
   "outputs": [],
   "source": [
    "from langchain.output_parsers import ResponseSchema, StructuredOutputParser\n"
   ]
  },
  {
   "cell_type": "code",
   "execution_count": 35,
   "id": "40c67764",
   "metadata": {},
   "outputs": [],
   "source": [
    "schema_product = ResponseSchema (\n",
    "    name = \"produto\",\n",
    "    type = \"string\",\n",
    "    description = \"Nome do produto mencionado no texto\"\n",
    ")\n",
    "\n",
    "schema_positivas = ResponseSchema (\n",
    "    name=\"caracteristicas_positivas\",\n",
    "    type=\"list\",\n",
    "    description=\"Liste todas as caracteristicas positivas mencionadas sobre o produto\"\n",
    ")\n",
    "\n",
    "schema_negativas = ResponseSchema (\n",
    "    name=\"caracteristicas_negativas\",\n",
    "    type=\"list\",\n",
    "    description=\"Liste todas as caracteristicas negativas mencionadas sobre o produto\"\n",
    ")\n",
    "\n",
    "schema_recomendacao = ResponseSchema (\n",
    "    name=\"recomendacao\",\n",
    "    type=\"bool\",\n",
    "    description=\"O cliente recomenda o produto? Responda True para sim e False para não. \"\n",
    ")"
   ]
  },
  {
   "cell_type": "code",
   "execution_count": 36,
   "id": "2a13524d",
   "metadata": {},
   "outputs": [],
   "source": [
    "response_schema = [schema_product, schema_positivas, schema_negativas, schema_recomendacao]\n",
    "output_parser = StructuredOutputParser.from_response_schemas(response_schema)\n",
    "schema_formated = output_parser.get_format_instructions()"
   ]
  },
  {
   "cell_type": "code",
   "execution_count": 38,
   "id": "58a8cbac",
   "metadata": {},
   "outputs": [],
   "source": [
    "review_template2 = ChatPromptTemplate.from_template (\"\"\"\n",
    "    Para o texto a seguir, extraia as seguintes informações:\n",
    "    produto: Nome do produto mencionado no texto.\n",
    "    caracteristicas_positivas:  Liste todas as caracteristicas positivas mencionadas sobre o produto.\n",
    "    caracteristicas_negativas Liste todas as caracteristicas negativas mencionadas sobre o produto.\n",
    "    recomendacao: O cliente recomenda o produto? Responda True para sim e False para não.           \n",
    "\n",
    "    Texto: {review}\n",
    "                                                    \n",
    "    {schema}\n",
    "\"\"\", partial_variables={\"schema\":schema_formated})"
   ]
  },
  {
   "cell_type": "code",
   "execution_count": 39,
   "id": "e24d97ad",
   "metadata": {},
   "outputs": [],
   "source": [
    "response_json = chat.invoke(review_template2.format_messages(review=feedback_ang))"
   ]
  },
  {
   "cell_type": "code",
   "execution_count": 40,
   "id": "88b7bfb4",
   "metadata": {},
   "outputs": [],
   "source": [
    "respost = output_parser.parse(response_json.content)"
   ]
  },
  {
   "cell_type": "code",
   "execution_count": 42,
   "id": "fd954a8f",
   "metadata": {},
   "outputs": [
    {
     "data": {
      "text/plain": [
       "{'produto': 'Samsung S24',\n",
       " 'caracteristicas_positivas': ['Construção premium',\n",
       "  'Tesno e projetado com elegância',\n",
       "  'Tela Dynamic AMOLED 2X com cores vibrantes e claras',\n",
       "  'Adaptação de atualização de 120Hz suave',\n",
       "  'Performance destacada em diversos tarefas',\n",
       "  'Camila de primeira linha com foto claramente expostas',\n",
       "  'Bateria dura para uso intensivo',\n",
       "  'Integração de recursos de IA para produtividade e comunicação'],\n",
       " 'caracteristicas_negativas': [],\n",
       " 'recomendacao': True}"
      ]
     },
     "execution_count": 42,
     "metadata": {},
     "output_type": "execute_result"
    }
   ],
   "source": [
    "respost"
   ]
  },
  {
   "cell_type": "code",
   "execution_count": 43,
   "id": "1076e58d",
   "metadata": {},
   "outputs": [
    {
     "data": {
      "text/plain": [
       "['Construção premium',\n",
       " 'Tesno e projetado com elegância',\n",
       " 'Tela Dynamic AMOLED 2X com cores vibrantes e claras',\n",
       " 'Adaptação de atualização de 120Hz suave',\n",
       " 'Performance destacada em diversos tarefas',\n",
       " 'Camila de primeira linha com foto claramente expostas',\n",
       " 'Bateria dura para uso intensivo',\n",
       " 'Integração de recursos de IA para produtividade e comunicação']"
      ]
     },
     "execution_count": 43,
     "metadata": {},
     "output_type": "execute_result"
    }
   ],
   "source": [
    "respost['caracteristicas_positivas']"
   ]
  },
  {
   "cell_type": "code",
   "execution_count": null,
   "id": "5500327a",
   "metadata": {},
   "outputs": [],
   "source": []
  }
 ],
 "metadata": {
  "kernelspec": {
   "display_name": "venv",
   "language": "python",
   "name": "python3"
  },
  "language_info": {
   "codemirror_mode": {
    "name": "ipython",
    "version": 3
   },
   "file_extension": ".py",
   "mimetype": "text/x-python",
   "name": "python",
   "nbconvert_exporter": "python",
   "pygments_lexer": "ipython3",
   "version": "3.12.6"
  }
 },
 "nbformat": 4,
 "nbformat_minor": 5
}
