{
 "cells": [
  {
   "cell_type": "code",
   "execution_count": 1,
   "id": "45383025",
   "metadata": {},
   "outputs": [],
   "source": [
    "from langchain_openai import OpenAIEmbeddings\n",
    "\n",
    "\n",
    "embeding_model = OpenAIEmbeddings()"
   ]
  },
  {
   "cell_type": "code",
   "execution_count": 2,
   "id": "e13210b0",
   "metadata": {},
   "outputs": [],
   "source": [
    "embeddings = embeding_model.embed_documents(\n",
    "    [\n",
    "        \"Eu gosto de cachoro\",\n",
    "        \"Eu gosto de animais\",\n",
    "        \"Hoje a tarde vai chover\"\n",
    "    ]\n",
    ")"
   ]
  },
  {
   "cell_type": "code",
   "execution_count": 4,
   "id": "8a6b8bc0",
   "metadata": {},
   "outputs": [
    {
     "data": {
      "text/plain": [
       "3"
      ]
     },
     "execution_count": 4,
     "metadata": {},
     "output_type": "execute_result"
    }
   ],
   "source": [
    "len(embeddings)"
   ]
  },
  {
   "cell_type": "code",
   "execution_count": 5,
   "id": "62a5f485",
   "metadata": {},
   "outputs": [
    {
     "data": {
      "text/plain": [
       "[-0.007942927069962025,\n",
       " 0.005741725210100412,\n",
       " -0.0022198031656444073,\n",
       " -0.02472786232829094,\n",
       " -0.009697687812149525,\n",
       " 0.008172348141670227,\n",
       " 0.00025151052977889776,\n",
       " -0.026563230901956558,\n",
       " -0.01538980845361948,\n",
       " -0.015228593721985817]"
      ]
     },
     "execution_count": 5,
     "metadata": {},
     "output_type": "execute_result"
    }
   ],
   "source": [
    "embeddings[0][:10]"
   ]
  },
  {
   "cell_type": "code",
   "execution_count": 6,
   "id": "0f526921",
   "metadata": {},
   "outputs": [
    {
     "data": {
      "text/plain": [
       "1536"
      ]
     },
     "execution_count": 6,
     "metadata": {},
     "output_type": "execute_result"
    }
   ],
   "source": [
    "len(embeddings[0])"
   ]
  },
  {
   "cell_type": "markdown",
   "id": "797b8cad",
   "metadata": {},
   "source": [
    "## Distancia entre os embeddings"
   ]
  },
  {
   "cell_type": "code",
   "execution_count": 7,
   "id": "80cf39e5",
   "metadata": {},
   "outputs": [
    {
     "data": {
      "text/plain": [
       "np.float64(0.9106265312462456)"
      ]
     },
     "execution_count": 7,
     "metadata": {},
     "output_type": "execute_result"
    }
   ],
   "source": [
    "import numpy as np\n",
    "\n",
    "np.dot(embeddings[0],embeddings[1])"
   ]
  },
  {
   "cell_type": "code",
   "execution_count": 8,
   "id": "2df31d0e",
   "metadata": {},
   "outputs": [
    {
     "data": {
      "text/plain": [
       "np.float64(0.7959989559720151)"
      ]
     },
     "execution_count": 8,
     "metadata": {},
     "output_type": "execute_result"
    }
   ],
   "source": [
    "np.dot(embeddings[1],embeddings[2])"
   ]
  },
  {
   "cell_type": "code",
   "execution_count": 9,
   "id": "27000a84",
   "metadata": {},
   "outputs": [
    {
     "data": {
      "text/plain": [
       "np.float64(0.798664733999122)"
      ]
     },
     "execution_count": 9,
     "metadata": {},
     "output_type": "execute_result"
    }
   ],
   "source": [
    "np.dot(embeddings[0],embeddings[2])"
   ]
  },
  {
   "cell_type": "markdown",
   "id": "f8f8df59",
   "metadata": {},
   "source": [
    "### Comparando todas os embeddings(Matriz Confusão)"
   ]
  },
  {
   "cell_type": "code",
   "execution_count": 11,
   "id": "1a846bc0",
   "metadata": {},
   "outputs": [
    {
     "name": "stdout",
     "output_type": "stream",
     "text": [
      "1.0 | 0.91 | 0.8 | 0.91 | 1.0 | 0.8 | 0.8 | 0.8 | 1.0 | "
     ]
    }
   ],
   "source": [
    "for i in range(len(embeddings)):\n",
    "    for j in range(len(embeddings)):\n",
    "        print(round(np.dot(embeddings[i], embeddings[j]),2), end=\" | \")"
   ]
  },
  {
   "cell_type": "code",
   "execution_count": 12,
   "id": "c71b4bb4",
   "metadata": {},
   "outputs": [
    {
     "data": {
      "text/plain": [
       "[0.005100993439555168,\n",
       " 0.003876505186781287,\n",
       " -0.0046824184246361256,\n",
       " -0.006441058591008186,\n",
       " -0.017842544242739677,\n",
       " 0.013619309291243553,\n",
       " 0.0015954270493239164,\n",
       " -0.002005412010475993,\n",
       " -0.002075695199891925,\n",
       " 0.005591413471847773]"
      ]
     },
     "execution_count": 12,
     "metadata": {},
     "output_type": "execute_result"
    }
   ],
   "source": [
    "question = \"O que é um cachorro?\"\n",
    "\n",
    "emb_query = embeding_model.embed_query(question)\n",
    "emb_query[:10]"
   ]
  }
 ],
 "metadata": {
  "kernelspec": {
   "display_name": "venv",
   "language": "python",
   "name": "python3"
  },
  "language_info": {
   "codemirror_mode": {
    "name": "ipython",
    "version": 3
   },
   "file_extension": ".py",
   "mimetype": "text/x-python",
   "name": "python",
   "nbconvert_exporter": "python",
   "pygments_lexer": "ipython3",
   "version": "3.10.12"
  }
 },
 "nbformat": 4,
 "nbformat_minor": 5
}
