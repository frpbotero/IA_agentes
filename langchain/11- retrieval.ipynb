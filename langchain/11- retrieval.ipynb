{
 "cells": [
  {
   "cell_type": "code",
   "execution_count": 1,
   "id": "6fc5cf73",
   "metadata": {},
   "outputs": [],
   "source": [
    "from langchain_community.document_loaders.pdf import PyMuPDFLoader\n",
    "from langchain_text_splitters import RecursiveCharacterTextSplitter"
   ]
  },
  {
   "cell_type": "code",
   "execution_count": 2,
   "id": "ac1f1a70",
   "metadata": {},
   "outputs": [
    {
     "data": {
      "text/plain": [
       "130"
      ]
     },
     "execution_count": 2,
     "metadata": {},
     "output_type": "execute_result"
    }
   ],
   "source": [
    "files = [\n",
    "    \"files/apostila.pdf\",\n",
    "    \"files/LLM.pdf\"\n",
    "]\n",
    "pages = []\n",
    "for file in files:\n",
    "    loader = PyMuPDFLoader(file)\n",
    "    pages.extend(loader.load())\n",
    "\n",
    "\n",
    "chunk_size = 500\n",
    "chunk_overlap = 50\n",
    "\n",
    "recursive_split = RecursiveCharacterTextSplitter(\n",
    "    chunk_overlap=chunk_overlap,\n",
    "    chunk_size=chunk_size,\n",
    "    separators=[\"\\n\\n\",\"\\n\",\" \", \"\", \".\"]\n",
    ")\n",
    "documents = recursive_split.split_documents(pages)\n",
    "len(documents)"
   ]
  },
  {
   "cell_type": "code",
   "execution_count": 3,
   "id": "c6cceefc",
   "metadata": {},
   "outputs": [],
   "source": [
    "for i, doc in enumerate(documents):\n",
    "    doc.metadata[\"source\"] = doc.metadata[\"source\"].replace(\"files/\",\"\")\n",
    "    doc.metadata[\"doc_id\"] = i"
   ]
  },
  {
   "cell_type": "code",
   "execution_count": 4,
   "id": "2a4609f6",
   "metadata": {},
   "outputs": [
    {
     "data": {
      "text/plain": [
       "{'producer': 'Microsoft® Word 2013',\n",
       " 'creator': 'Microsoft® Word 2013',\n",
       " 'creationdate': '2016-05-04T10:06:39-03:00',\n",
       " 'source': 'apostila.pdf',\n",
       " 'file_path': 'files/apostila.pdf',\n",
       " 'total_pages': 28,\n",
       " 'format': 'PDF 1.5',\n",
       " 'title': '',\n",
       " 'author': 'lucas',\n",
       " 'subject': '',\n",
       " 'keywords': '',\n",
       " 'moddate': '2016-05-04T10:06:39-03:00',\n",
       " 'trapped': '',\n",
       " 'modDate': \"D:20160504100639-03'00'\",\n",
       " 'creationDate': \"D:20160504100639-03'00'\",\n",
       " 'page': 1,\n",
       " 'doc_id': 2}"
      ]
     },
     "execution_count": 4,
     "metadata": {},
     "output_type": "execute_result"
    }
   ],
   "source": [
    "documents[2].metadata"
   ]
  },
  {
   "cell_type": "code",
   "execution_count": 5,
   "id": "cf053668",
   "metadata": {},
   "outputs": [],
   "source": [
    "from langchain_openai import OpenAIEmbeddings\n",
    "from langchain_community.vectorstores.chroma import Chroma\n",
    "\n",
    "embeddings_model = OpenAIEmbeddings()"
   ]
  },
  {
   "cell_type": "code",
   "execution_count": 6,
   "id": "926c0ddc",
   "metadata": {},
   "outputs": [],
   "source": [
    "directory = \"files/chroma_retrival_db\" \n",
    "\n",
    "vectordb= Chroma.from_documents(\n",
    "    documents=documents,\n",
    "    embedding=embeddings_model,\n",
    "    persist_directory= directory\n",
    ")"
   ]
  },
  {
   "cell_type": "markdown",
   "id": "3a0f9c44",
   "metadata": {},
   "source": [
    "## Semantic Search"
   ]
  },
  {
   "cell_type": "code",
   "execution_count": 7,
   "id": "81ee784c",
   "metadata": {},
   "outputs": [
    {
     "name": "stdout",
     "output_type": "stream",
     "text": [
      "código de exemplo que podem ajudar você a começar a trabalhar com LLMs \n",
      "imediatamente.\n",
      "=={'format': 'PDF 1.4', 'creator': '', 'title': '', 'keywords': '', 'moddate': \"D:20231017132635Z00'00'\", 'page': 7, 'author': '', 'producer': 'macOS Version 13.5 (Build 22G74) Quartz PDFContext', 'file_path': 'files/LLM.pdf', 'subject': '', 'doc_id': 127, 'source': 'LLM.pdf', 'modDate': \"D:20231017132635Z00'00'\", 'trapped': '', 'creationdate': \"D:20231017132635Z00'00'\", 'creationDate': \"D:20231017132635Z00'00'\", 'total_pages': 9}\n",
      "\n",
      "2 \n",
      " \n",
      " \n",
      " \n",
      " \n",
      " \n",
      " \n",
      " \n",
      " \n",
      " \n",
      "PARTE  1 \n",
      "Introdução \n",
      " \n",
      " \n",
      "Definição de LLM (tradução livre: grandes modelos de linguagem) \n",
      "LLMs são sistemas de IA desenvolvidos para processar e analisar enormes \n",
      "quantidades de dados de linguagem natural e, em seguida, usar essas \n",
      "informações para gerar respostas às solicitações dos usuários. Esses sistemas são \n",
      "treinados em grandes conjuntos de dados usando algoritmos avançados de \n",
      "machine learning para aprender os padrões e as estruturas da linguagem\n",
      "=={'author': '', 'file_path': 'files/LLM.pdf', 'subject': '', 'format': 'PDF 1.4', 'source': 'LLM.pdf', 'creationdate': \"D:20231017132635Z00'00'\", 'creationDate': \"D:20231017132635Z00'00'\", 'modDate': \"D:20231017132635Z00'00'\", 'total_pages': 9, 'producer': 'macOS Version 13.5 (Build 22G74) Quartz PDFContext', 'creator': '', 'page': 1, 'title': '', 'keywords': '', 'doc_id': 95, 'trapped': '', 'moddate': \"D:20231017132635Z00'00'\"}\n",
      "\n",
      "fornecidos pelo usuário. \n",
      " \n",
      " \n",
      "GERAÇÃO DE CÓDIGO E DEPURAÇÃO  \n",
      "Os LLMs podem ser treinados com grandes volumes de exemplos de código \n",
      "e fornecer \n",
      "trechos úteis de código como resposta a solicitações escritas em linguagem \n",
      "natural. Com as técnicas apropriadas, os LLMs também podem ser \n",
      "desenvolvidos de forma a fazer referência a outros dados relevantes que talvez \n",
      "não tenham sido treinados, como a documentação de uma empresa, para \n",
      "fornecer respostas mais precisas.\n",
      "=={'title': '', 'creationdate': \"D:20231017132635Z00'00'\", 'source': 'LLM.pdf', 'creationDate': \"D:20231017132635Z00'00'\", 'doc_id': 109, 'producer': 'macOS Version 13.5 (Build 22G74) Quartz PDFContext', 'subject': '', 'author': '', 'total_pages': 9, 'keywords': '', 'file_path': 'files/LLM.pdf', 'creator': '', 'trapped': '', 'modDate': \"D:20231017132635Z00'00'\", 'moddate': \"D:20231017132635Z00'00'\", 'page': 4, 'format': 'PDF 1.4'}\n",
      "\n"
     ]
    }
   ],
   "source": [
    "question = \"O que é um LLM?\"\n",
    "\n",
    "docs = vectordb.similarity_search(question, k=3)\n",
    "\n",
    "for doc in docs:\n",
    "    print(doc.page_content)\n",
    "    print(f'=={doc.metadata}\\n')"
   ]
  },
  {
   "cell_type": "markdown",
   "id": "e470f1eb",
   "metadata": {},
   "source": [
    "### Max MArginal Relevance"
   ]
  },
  {
   "cell_type": "code",
   "execution_count": 8,
   "id": "515507bc",
   "metadata": {},
   "outputs": [
    {
     "name": "stdout",
     "output_type": "stream",
     "text": [
      "código de exemplo que podem ajudar você a começar a trabalhar com LLMs \n",
      "imediatamente.\n",
      "=={'page': 7, 'format': 'PDF 1.4', 'trapped': '', 'moddate': \"D:20231017132635Z00'00'\", 'creator': '', 'creationdate': \"D:20231017132635Z00'00'\", 'source': 'LLM.pdf', 'keywords': '', 'producer': 'macOS Version 13.5 (Build 22G74) Quartz PDFContext', 'file_path': 'files/LLM.pdf', 'creationDate': \"D:20231017132635Z00'00'\", 'subject': '', 'total_pages': 9, 'modDate': \"D:20231017132635Z00'00'\", 'doc_id': 127, 'author': '', 'title': ''}\n",
      "\n",
      "2 \n",
      " \n",
      " \n",
      " \n",
      " \n",
      " \n",
      " \n",
      " \n",
      " \n",
      " \n",
      "PARTE  1 \n",
      "Introdução \n",
      " \n",
      " \n",
      "Definição de LLM (tradução livre: grandes modelos de linguagem) \n",
      "LLMs são sistemas de IA desenvolvidos para processar e analisar enormes \n",
      "quantidades de dados de linguagem natural e, em seguida, usar essas \n",
      "informações para gerar respostas às solicitações dos usuários. Esses sistemas são \n",
      "treinados em grandes conjuntos de dados usando algoritmos avançados de \n",
      "machine learning para aprender os padrões e as estruturas da linguagem\n",
      "=={'creationdate': \"D:20231017132635Z00'00'\", 'doc_id': 95, 'source': 'LLM.pdf', 'creator': '', 'total_pages': 9, 'subject': '', 'modDate': \"D:20231017132635Z00'00'\", 'creationDate': \"D:20231017132635Z00'00'\", 'title': '', 'page': 1, 'trapped': '', 'keywords': '', 'producer': 'macOS Version 13.5 (Build 22G74) Quartz PDFContext', 'author': '', 'format': 'PDF 1.4', 'file_path': 'files/LLM.pdf', 'moddate': \"D:20231017132635Z00'00'\"}\n",
      "\n",
      "um primeiro rascunho para você desenvolver. Use-os para criar ideias e faça \n",
      "perguntas ao LLM para ajudar a se inspirar. \n",
      "Observação: a maioria dos LLMs não é treinada para ser uma máquina de \n",
      "fatos. Eles sabem como usar a linguagem, mas podem não saber quem \n",
      "ganhou o grande evento esportivo do ano passado. É sempre importante \n",
      "verificar os fatos e entender as respostas antes de usá-las como referência.\n",
      "=={'moddate': \"D:20231017132635Z00'00'\", 'creator': '', 'keywords': '', 'creationDate': \"D:20231017132635Z00'00'\", 'creationdate': \"D:20231017132635Z00'00'\", 'trapped': '', 'modDate': \"D:20231017132635Z00'00'\", 'producer': 'macOS Version 13.5 (Build 22G74) Quartz PDFContext', 'title': '', 'format': 'PDF 1.4', 'file_path': 'files/LLM.pdf', 'total_pages': 9, 'subject': '', 'page': 4, 'author': '', 'source': 'LLM.pdf', 'doc_id': 113}\n",
      "\n"
     ]
    }
   ],
   "source": [
    "question = \"O que é um LLM?\"\n",
    "\n",
    "docs = vectordb.max_marginal_relevance_search(question, k=3, fetch_k=10)\n",
    "\n",
    "for doc in docs:\n",
    "    print(doc.page_content)\n",
    "    print(f'=={doc.metadata}\\n')"
   ]
  },
  {
   "cell_type": "markdown",
   "id": "eb41b757",
   "metadata": {},
   "source": [
    "### Filter"
   ]
  },
  {
   "cell_type": "code",
   "execution_count": 11,
   "id": "7e974f8b",
   "metadata": {},
   "outputs": [
    {
     "name": "stdout",
     "output_type": "stream",
     "text": [
      "Serviços proprietários \n",
      "Como o primeiro serviço amplamente disponível alimentado por LLM, o \n",
      "ChatGPT da OpenAI foi o catalisador explosivo que trouxe os LLMs para o \n",
      "mainstream. O ChatGPT fornece uma interface de usuário (ou API) em que os \n",
      "usuários podem enviar prompts para muitos \n",
      "modelos (GPT-3.5, GPT-4 e outros) e geralmente obter uma resposta rápida. Eles \n",
      "estão entre os modelos de maior desempenho, treinados em conjuntos de dados\n",
      "=={'source': 'LLM.pdf', 'title': '', 'author': '', 'creator': '', 'file_path': 'files/LLM.pdf', 'doc_id': 115, 'modDate': \"D:20231017132635Z00'00'\", 'moddate': \"D:20231017132635Z00'00'\", 'total_pages': 9, 'page': 5, 'creationDate': \"D:20231017132635Z00'00'\", 'trapped': '', 'creationdate': \"D:20231017132635Z00'00'\", 'format': 'PDF 1.4', 'producer': 'macOS Version 13.5 (Build 22G74) Quartz PDFContext', 'keywords': '', 'subject': ''}\n",
      "\n",
      "AVANÇOS EM TÉCNICAS  \n",
      "Nos últimos anos, houve avanços significativos nas técnicas usadas para treinar \n",
      "esses modelos, resultando em grandes melhorias de desempenho. \n",
      "Notavelmente, um dos maiores saltos de desempenho veio da integração do \n",
      "feedback humano diretamente no processo de treinamento. \n",
      "M A I O R  A C E S S I B I L I D A D E   \n",
      "O lançamento do ChatGPT abriu as portas para qualquer pessoa com \n",
      "acesso à internet interagir com um dos LLMs mais avançados por meio de\n",
      "=={'modDate': \"D:20231017132635Z00'00'\", 'total_pages': 9, 'creationdate': \"D:20231017132635Z00'00'\", 'title': '', 'moddate': \"D:20231017132635Z00'00'\", 'source': 'LLM.pdf', 'subject': '', 'page': 3, 'creator': '', 'author': '', 'doc_id': 104, 'producer': 'macOS Version 13.5 (Build 22G74) Quartz PDFContext', 'format': 'PDF 1.4', 'keywords': '', 'trapped': '', 'file_path': 'files/LLM.pdf', 'creationDate': \"D:20231017132635Z00'00'\"}\n",
      "\n",
      "aberto, onde houve um crescimento igualmente explosivo nos últimos anos. \n",
      "Comunidades como a Hugging Face reúnem centenas de milhares de \n",
      "modelos de contribuidores que podem ajudar a resolver muitos casos de uso \n",
      "específicos, como \n",
      "geração de texto, resumo e classificação. A comunidade de código aberto está \n",
      "rapidamente alcançando o desempenho dos modelos proprietários, mas ainda \n",
      "não conseguiu igualar o desempenho de algo como o GPT-4.\n",
      "=={'total_pages': 9, 'subject': '', 'creationDate': \"D:20231017132635Z00'00'\", 'modDate': \"D:20231017132635Z00'00'\", 'source': 'LLM.pdf', 'creator': '', 'trapped': '', 'author': '', 'producer': 'macOS Version 13.5 (Build 22G74) Quartz PDFContext', 'keywords': '', 'file_path': 'files/LLM.pdf', 'doc_id': 119, 'moddate': \"D:20231017132635Z00'00'\", 'format': 'PDF 1.4', 'creationdate': \"D:20231017132635Z00'00'\", 'title': '', 'page': 5}\n",
      "\n"
     ]
    }
   ],
   "source": [
    "question = \"o que a apostila de LLM fala sobre OpenAi e o ChatGPT?\"\n",
    "\n",
    "docs = vectordb.similarity_search(question, \n",
    "                                  k=3,\n",
    "                                  filter={\"$and\":[{\"source\":\"LLM.pdf\"}, \n",
    "                                          {\"page\":{\"$in\":[3,4,5,6]}}]})\n",
    "\n",
    "for doc in docs:\n",
    "    print(doc.page_content)\n",
    "    print(f'=={doc.metadata}\\n')"
   ]
  },
  {
   "cell_type": "markdown",
   "id": "5c1819bd",
   "metadata": {},
   "source": [
    "### LLM Aided Retrieval"
   ]
  },
  {
   "cell_type": "code",
   "execution_count": 12,
   "id": "e7276103",
   "metadata": {},
   "outputs": [],
   "source": [
    "from langchain_openai.llms import OpenAI\n",
    "from langchain.retrievers.self_query.base import SelfQueryRetriever\n",
    "from langchain.chains.query_constructor.schema import AttributeInfo"
   ]
  },
  {
   "cell_type": "code",
   "execution_count": 13,
   "id": "d8c187cb",
   "metadata": {},
   "outputs": [],
   "source": [
    "metadata_info = [\n",
    "    AttributeInfo(\n",
    "        name='source',\n",
    "        description='Nome da apostila de onde o texto original foi retirado. Pode ser \"apostila.pdf\" ou \"LLM.pdf\".',\n",
    "        type='string'\n",
    "    ),\n",
    "    AttributeInfo(\n",
    "        name='page',\n",
    "        description='A página da apostila de onde o texto foi extraído. Número da página.',\n",
    "        type='integer'\n",
    "    ),\n",
    "]"
   ]
  },
  {
   "cell_type": "code",
   "execution_count": 14,
   "id": "a530a17b",
   "metadata": {},
   "outputs": [],
   "source": [
    "document_description = \"Apostilas de informações\"\n",
    "llm = OpenAI()\n",
    "\n",
    "retriever = SelfQueryRetriever.from_llm(\n",
    "    llm,\n",
    "    vectordb,\n",
    "    document_description,\n",
    "    metadata_info,\n",
    "    verbose=True\n",
    ")"
   ]
  },
  {
   "cell_type": "code",
   "execution_count": 15,
   "id": "1bdde513",
   "metadata": {},
   "outputs": [
    {
     "name": "stderr",
     "output_type": "stream",
     "text": [
      "/tmp/ipykernel_489108/2978584755.py:3: LangChainDeprecationWarning: The method `BaseRetriever.get_relevant_documents` was deprecated in langchain-core 0.1.46 and will be removed in 1.0. Use :meth:`~invoke` instead.\n",
      "  docs = retriever.get_relevant_documents(pergunta)\n"
     ]
    },
    {
     "name": "stdout",
     "output_type": "stream",
     "text": [
      "Serviços proprietários \n",
      "Como o primeiro serviço amplamente disponível alimentado por LLM, o \n",
      "ChatGPT da OpenAI foi o catalisador explosivo que trouxe os LLMs para o \n",
      "mainstream. O ChatGPT fornece uma interface de usuário (ou API) em que os \n",
      "usuários podem enviar prompts para muitos \n",
      "modelos (GPT-3.5, GPT-4 e outros) e geralmente obter uma resposta rápida. Eles \n",
      "estão entre os modelos de maior desempenho, treinados em conjuntos de dados\n",
      "==========={'format': 'PDF 1.4', 'total_pages': 9, 'page': 5, 'modDate': \"D:20231017132635Z00'00'\", 'creationdate': \"D:20231017132635Z00'00'\", 'source': 'LLM.pdf', 'creationDate': \"D:20231017132635Z00'00'\", 'producer': 'macOS Version 13.5 (Build 22G74) Quartz PDFContext', 'keywords': '', 'title': '', 'subject': '', 'author': '', 'file_path': 'files/LLM.pdf', 'creator': '', 'moddate': \"D:20231017132635Z00'00'\", 'trapped': '', 'doc_id': 115}\n",
      "\n",
      "\n",
      "aberto, onde houve um crescimento igualmente explosivo nos últimos anos. \n",
      "Comunidades como a Hugging Face reúnem centenas de milhares de \n",
      "modelos de contribuidores que podem ajudar a resolver muitos casos de uso \n",
      "específicos, como \n",
      "geração de texto, resumo e classificação. A comunidade de código aberto está \n",
      "rapidamente alcançando o desempenho dos modelos proprietários, mas ainda \n",
      "não conseguiu igualar o desempenho de algo como o GPT-4.\n",
      "==========={'trapped': '', 'doc_id': 119, 'page': 5, 'format': 'PDF 1.4', 'producer': 'macOS Version 13.5 (Build 22G74) Quartz PDFContext', 'source': 'LLM.pdf', 'keywords': '', 'moddate': \"D:20231017132635Z00'00'\", 'subject': '', 'modDate': \"D:20231017132635Z00'00'\", 'author': '', 'creationDate': \"D:20231017132635Z00'00'\", 'title': '', 'creationdate': \"D:20231017132635Z00'00'\", 'file_path': 'files/LLM.pdf', 'total_pages': 9, 'creator': ''}\n",
      "\n",
      "\n",
      "treinados Generativos). \n",
      "2018 \n",
      "O Google apresentou o BERT (Bidirectional Encoder \n",
      "Representations from Transformers), que foi um grande salto na \n",
      "arquitetura e abriu caminho para futuros grandes modelos de \n",
      "linguagem. \n",
      " \n",
      "2020 \n",
      "A OpenAI lançou o GPT-3, que se tornou o maior modelo com \n",
      "175 bilhões de parâmetros e estabeleceu um novo referencial \n",
      "de desempenho para tarefas relacionadas à linguagem. \n",
      " \n",
      "2022 \n",
      "O ChatGPT foi lançado, transformando o GPT-3 e modelos semelhantes em\n",
      "==========={'source': 'LLM.pdf', 'title': '', 'creationdate': \"D:20231017132635Z00'00'\", 'creationDate': \"D:20231017132635Z00'00'\", 'creator': '', 'total_pages': 9, 'keywords': '', 'format': 'PDF 1.4', 'producer': 'macOS Version 13.5 (Build 22G74) Quartz PDFContext', 'page': 2, 'trapped': '', 'author': '', 'doc_id': 100, 'subject': '', 'modDate': \"D:20231017132635Z00'00'\", 'moddate': \"D:20231017132635Z00'00'\", 'file_path': 'files/LLM.pdf'}\n",
      "\n",
      "\n",
      "modelo transformador da Hugging Face e usá-lo como um objeto Python. Muitas \n",
      "vezes, você pode encontrar um modelo de código aberto que resolve seu \n",
      "problema específico e que é várias ordens de grandeza menor que o ChatGPT, \n",
      "permitindo que você traga o modelo para seu ambiente e hospede-o você \n",
      "mesmo. Isso significa que você pode manter os dados sob seu controle para \n",
      "preocupações com privacidade e governança, além de gerenciar seus custos.\n",
      "==========={'keywords': '', 'moddate': \"D:20231017132635Z00'00'\", 'producer': 'macOS Version 13.5 (Build 22G74) Quartz PDFContext', 'total_pages': 9, 'file_path': 'files/LLM.pdf', 'trapped': '', 'source': 'LLM.pdf', 'modDate': \"D:20231017132635Z00'00'\", 'author': '', 'subject': '', 'doc_id': 121, 'creationdate': \"D:20231017132635Z00'00'\", 'creator': '', 'creationDate': \"D:20231017132635Z00'00'\", 'page': 6, 'title': '', 'format': 'PDF 1.4'}\n",
      "\n",
      "\n"
     ]
    }
   ],
   "source": [
    "pergunta = 'O que a apostila de LLM fala sobre a OpenAI, ChatGPT e Hugging Face?'\n",
    "\n",
    "docs = retriever.get_relevant_documents(pergunta)\n",
    "for doc in docs:\n",
    "    print(doc.page_content)\n",
    "    print(f'==========={doc.metadata}\\n\\n')"
   ]
  }
 ],
 "metadata": {
  "kernelspec": {
   "display_name": "venv",
   "language": "python",
   "name": "python3"
  },
  "language_info": {
   "codemirror_mode": {
    "name": "ipython",
    "version": 3
   },
   "file_extension": ".py",
   "mimetype": "text/x-python",
   "name": "python",
   "nbconvert_exporter": "python",
   "pygments_lexer": "ipython3",
   "version": "3.10.12"
  }
 },
 "nbformat": 4,
 "nbformat_minor": 5
}
