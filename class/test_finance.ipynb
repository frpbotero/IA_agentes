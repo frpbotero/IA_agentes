{
 "cells": [
  {
   "cell_type": "markdown",
   "id": "3269e11a",
   "metadata": {},
   "source": [
    "### Import Lib Yfinance"
   ]
  },
  {
   "cell_type": "code",
   "execution_count": 13,
   "id": "52f6c47d",
   "metadata": {},
   "outputs": [],
   "source": [
    "import  yfinance as yf\n",
    "import pandas as pd\n",
    "import json"
   ]
  },
  {
   "cell_type": "code",
   "execution_count": 23,
   "id": "85d4e520",
   "metadata": {},
   "outputs": [
    {
     "data": {
      "text/html": [
       "<div>\n",
       "<style scoped>\n",
       "    .dataframe tbody tr th:only-of-type {\n",
       "        vertical-align: middle;\n",
       "    }\n",
       "\n",
       "    .dataframe tbody tr th {\n",
       "        vertical-align: top;\n",
       "    }\n",
       "\n",
       "    .dataframe thead th {\n",
       "        text-align: right;\n",
       "    }\n",
       "</style>\n",
       "<table border=\"1\" class=\"dataframe\">\n",
       "  <thead>\n",
       "    <tr style=\"text-align: right;\">\n",
       "      <th></th>\n",
       "      <th>ativo</th>\n",
       "      <th>ticker</th>\n",
       "    </tr>\n",
       "  </thead>\n",
       "  <tbody>\n",
       "    <tr>\n",
       "      <th>0</th>\n",
       "      <td>Banco do Brasil</td>\n",
       "      <td>BBAS3</td>\n",
       "    </tr>\n",
       "    <tr>\n",
       "      <th>1</th>\n",
       "      <td>Itaúsa</td>\n",
       "      <td>ITSA4</td>\n",
       "    </tr>\n",
       "    <tr>\n",
       "      <th>2</th>\n",
       "      <td>Banco Inter</td>\n",
       "      <td>INBR32</td>\n",
       "    </tr>\n",
       "    <tr>\n",
       "      <th>3</th>\n",
       "      <td>Banco BTG Pactual</td>\n",
       "      <td>BPAC11</td>\n",
       "    </tr>\n",
       "    <tr>\n",
       "      <th>4</th>\n",
       "      <td>Banco Safra</td>\n",
       "      <td>BSFR3</td>\n",
       "    </tr>\n",
       "  </tbody>\n",
       "</table>\n",
       "</div>"
      ],
      "text/plain": [
       "               ativo  ticker\n",
       "0    Banco do Brasil   BBAS3\n",
       "1             Itaúsa   ITSA4\n",
       "2        Banco Inter  INBR32\n",
       "3  Banco BTG Pactual  BPAC11\n",
       "4        Banco Safra   BSFR3"
      ]
     },
     "execution_count": 23,
     "metadata": {},
     "output_type": "execute_result"
    }
   ],
   "source": [
    "with open(\"ativos.json\", \"r\", encoding=\"utf-8\") as f:\n",
    "    dados = json.load(f)       \n",
    "\n",
    "df = pd.DataFrame(dados[\"ativos\"])\n",
    "df.head() "
   ]
  },
  {
   "cell_type": "code",
   "execution_count": 24,
   "id": "01b52471",
   "metadata": {},
   "outputs": [
    {
     "name": "stdout",
     "output_type": "stream",
     "text": [
      "yfinance.Ticker object <INBR32.SA>\n"
     ]
    }
   ],
   "source": [
    "ticker = df.loc[2, 'ticker']\n",
    "period = '5d'\n",
    "\n",
    "ticker_obj = yf.Ticker(f'{ticker}.SA')\n",
    "print(ticker_obj)"
   ]
  },
  {
   "cell_type": "code",
   "execution_count": 25,
   "id": "99f8866b",
   "metadata": {},
   "outputs": [
    {
     "data": {
      "text/html": [
       "<div>\n",
       "<style scoped>\n",
       "    .dataframe tbody tr th:only-of-type {\n",
       "        vertical-align: middle;\n",
       "    }\n",
       "\n",
       "    .dataframe tbody tr th {\n",
       "        vertical-align: top;\n",
       "    }\n",
       "\n",
       "    .dataframe thead th {\n",
       "        text-align: right;\n",
       "    }\n",
       "</style>\n",
       "<table border=\"1\" class=\"dataframe\">\n",
       "  <thead>\n",
       "    <tr style=\"text-align: right;\">\n",
       "      <th></th>\n",
       "      <th>Open</th>\n",
       "      <th>High</th>\n",
       "      <th>Low</th>\n",
       "      <th>Close</th>\n",
       "      <th>Volume</th>\n",
       "      <th>Dividends</th>\n",
       "      <th>Stock Splits</th>\n",
       "    </tr>\n",
       "    <tr>\n",
       "      <th>Date</th>\n",
       "      <th></th>\n",
       "      <th></th>\n",
       "      <th></th>\n",
       "      <th></th>\n",
       "      <th></th>\n",
       "      <th></th>\n",
       "      <th></th>\n",
       "    </tr>\n",
       "  </thead>\n",
       "  <tbody>\n",
       "    <tr>\n",
       "      <th>2025-06-02 00:00:00-03:00</th>\n",
       "      <td>41.349998</td>\n",
       "      <td>41.490002</td>\n",
       "      <td>39.290001</td>\n",
       "      <td>39.599998</td>\n",
       "      <td>2752015</td>\n",
       "      <td>0.0</td>\n",
       "      <td>0.0</td>\n",
       "    </tr>\n",
       "    <tr>\n",
       "      <th>2025-06-03 00:00:00-03:00</th>\n",
       "      <td>39.560001</td>\n",
       "      <td>39.720001</td>\n",
       "      <td>38.830002</td>\n",
       "      <td>38.830002</td>\n",
       "      <td>1495040</td>\n",
       "      <td>0.0</td>\n",
       "      <td>0.0</td>\n",
       "    </tr>\n",
       "    <tr>\n",
       "      <th>2025-06-04 00:00:00-03:00</th>\n",
       "      <td>39.000000</td>\n",
       "      <td>39.779999</td>\n",
       "      <td>38.689999</td>\n",
       "      <td>39.099998</td>\n",
       "      <td>1570489</td>\n",
       "      <td>0.0</td>\n",
       "      <td>0.0</td>\n",
       "    </tr>\n",
       "    <tr>\n",
       "      <th>2025-06-05 00:00:00-03:00</th>\n",
       "      <td>39.099998</td>\n",
       "      <td>40.330002</td>\n",
       "      <td>38.900002</td>\n",
       "      <td>39.400002</td>\n",
       "      <td>2315822</td>\n",
       "      <td>0.0</td>\n",
       "      <td>0.0</td>\n",
       "    </tr>\n",
       "    <tr>\n",
       "      <th>2025-06-06 00:00:00-03:00</th>\n",
       "      <td>39.450001</td>\n",
       "      <td>39.910000</td>\n",
       "      <td>38.330002</td>\n",
       "      <td>38.770000</td>\n",
       "      <td>693088</td>\n",
       "      <td>0.0</td>\n",
       "      <td>0.0</td>\n",
       "    </tr>\n",
       "  </tbody>\n",
       "</table>\n",
       "</div>"
      ],
      "text/plain": [
       "                                Open       High        Low      Close  \\\n",
       "Date                                                                    \n",
       "2025-06-02 00:00:00-03:00  41.349998  41.490002  39.290001  39.599998   \n",
       "2025-06-03 00:00:00-03:00  39.560001  39.720001  38.830002  38.830002   \n",
       "2025-06-04 00:00:00-03:00  39.000000  39.779999  38.689999  39.099998   \n",
       "2025-06-05 00:00:00-03:00  39.099998  40.330002  38.900002  39.400002   \n",
       "2025-06-06 00:00:00-03:00  39.450001  39.910000  38.330002  38.770000   \n",
       "\n",
       "                            Volume  Dividends  Stock Splits  \n",
       "Date                                                         \n",
       "2025-06-02 00:00:00-03:00  2752015        0.0           0.0  \n",
       "2025-06-03 00:00:00-03:00  1495040        0.0           0.0  \n",
       "2025-06-04 00:00:00-03:00  1570489        0.0           0.0  \n",
       "2025-06-05 00:00:00-03:00  2315822        0.0           0.0  \n",
       "2025-06-06 00:00:00-03:00   693088        0.0           0.0  "
      ]
     },
     "execution_count": 25,
     "metadata": {},
     "output_type": "execute_result"
    }
   ],
   "source": [
    "ticker_obj.history(period=period)"
   ]
  },
  {
   "cell_type": "code",
   "execution_count": 30,
   "id": "0c07d0bd",
   "metadata": {},
   "outputs": [],
   "source": [
    "def return_price(ticker, period = \"1y\"):\n",
    "    ticker_obj = yf.Ticker(f'{ticker}.SA')\n",
    "    hist = ticker_obj.history(period=period)[\"Close\"]\n",
    "    hist.index = hist.index.strftime('%Y-%m-%d')\n",
    "    hist = round(hist, 2)\n",
    "    # Limit the number of rows to 30\n",
    "\n",
    "    if len(hist) > 30:\n",
    "        slice_size  = int(len(hist) / 30)\n",
    "        hist = hist.iloc[::slice_size][::-1]\n",
    "    return hist.to_json()"
   ]
  },
  {
   "cell_type": "code",
   "execution_count": 31,
   "id": "f1b422be",
   "metadata": {},
   "outputs": [
    {
     "data": {
      "text/plain": [
       "'{\"2025-06-04\":39.1,\"2025-05-23\":40.32,\"2025-05-13\":39.5,\"2025-04-30\":37.75,\"2025-04-16\":32.88,\"2025-04-04\":31.49,\"2025-03-25\":32.08,\"2025-03-13\":32.41,\"2025-02-27\":31.25,\"2025-02-17\":30.84,\"2025-02-05\":30.44,\"2025-01-24\":28.81,\"2025-01-14\":26.21,\"2025-01-02\":24.79,\"2024-12-17\":26.4,\"2024-12-05\":26.7,\"2024-11-25\":32.02,\"2024-11-11\":35.07,\"2024-10-30\":36.95,\"2024-10-18\":36.75,\"2024-10-08\":34.23,\"2024-09-26\":35.96,\"2024-09-16\":39.29,\"2024-09-04\":40.51,\"2024-08-23\":40.91,\"2024-08-13\":38.71,\"2024-08-01\":36.16,\"2024-07-22\":38.42,\"2024-07-10\":33.4,\"2024-06-28\":33.6,\"2024-06-18\":30.39,\"2024-06-06\":32.08}'"
      ]
     },
     "execution_count": 31,
     "metadata": {},
     "output_type": "execute_result"
    }
   ],
   "source": [
    "return_price(df.loc[2, 'ticker'])"
   ]
  }
 ],
 "metadata": {
  "kernelspec": {
   "display_name": "venv",
   "language": "python",
   "name": "python3"
  },
  "language_info": {
   "codemirror_mode": {
    "name": "ipython",
    "version": 3
   },
   "file_extension": ".py",
   "mimetype": "text/x-python",
   "name": "python",
   "nbconvert_exporter": "python",
   "pygments_lexer": "ipython3",
   "version": "3.12.6"
  }
 },
 "nbformat": 4,
 "nbformat_minor": 5
}
