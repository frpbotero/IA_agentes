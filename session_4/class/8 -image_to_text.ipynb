{
 "cells": [
  {
   "cell_type": "code",
   "execution_count": 1,
   "id": "f7af08f8",
   "metadata": {},
   "outputs": [],
   "source": [
    "import openai"
   ]
  },
  {
   "cell_type": "markdown",
   "id": "54370524",
   "metadata": {},
   "source": [
    "### Instanciando Client OpenAi"
   ]
  },
  {
   "cell_type": "code",
   "execution_count": 2,
   "id": "7561c1f4",
   "metadata": {},
   "outputs": [],
   "source": [
    "client = openai.Client()"
   ]
  },
  {
   "cell_type": "markdown",
   "id": "7f53265c",
   "metadata": {},
   "source": [
    "### Qual pergunta fazer"
   ]
  },
  {
   "cell_type": "code",
   "execution_count": 4,
   "id": "6901f2d1",
   "metadata": {},
   "outputs": [],
   "source": [
    "text = \"Descreva essa imagem\""
   ]
  },
  {
   "cell_type": "markdown",
   "id": "e7841b4c",
   "metadata": {},
   "source": [
    "### Enviando pergunta e imagem"
   ]
  },
  {
   "cell_type": "code",
   "execution_count": 7,
   "id": "46c7fb9d",
   "metadata": {},
   "outputs": [],
   "source": [
    "response = client.chat.completions.create(\n",
    "    model=\"gpt-4o-mini\",\n",
    "    messages=[{\n",
    "        \"role\":\"user\",\n",
    "        \"content\":[\n",
    "             {\"type\":\"text\",\"text\":text},\n",
    "            {\"type\":\"image_url\",\"image_url\":{\n",
    "                \"url\":\"https://harus.ind.br/wp-content/webp-express/webp-images/uploads/2023/02/5-praias-brasileiras-1024x768.jpg.webp\"\n",
    "            }}\n",
    "        ]\n",
    "           \n",
    "        \n",
    "    }]\n",
    ")"
   ]
  },
  {
   "cell_type": "markdown",
   "id": "ea36562b",
   "metadata": {},
   "source": [
    "### Imprimindo resposta"
   ]
  },
  {
   "cell_type": "code",
   "execution_count": 13,
   "id": "abe3d5db",
   "metadata": {},
   "outputs": [
    {
     "name": "stdout",
     "output_type": "stream",
     "text": [
      "A imagem retrata uma bela cena de praia durante o pôr do sol. O céu exibe tons quentes de laranja, rosa e roxo, refletindo-se na água calma que banha a areia dourada. Há algumas palmeiras que se destacam à esquerda, com uma delas inclinada em direção à água. Na praia, a areia parece ser suave e clara, e há uma área com bancos ou assentos, sugerindo um local acolhedor para relaxar e apreciar a vista. Ao fundo, uma colina se avista, complementando o cenário tropical e tranquilo.\n"
     ]
    }
   ],
   "source": [
    "print(response.choices[0].message.content)"
   ]
  },
  {
   "cell_type": "markdown",
   "id": "7c81bf91",
   "metadata": {},
   "source": [
    "### Qual placa do Carro"
   ]
  },
  {
   "cell_type": "code",
   "execution_count": 21,
   "id": "cbe00a8e",
   "metadata": {},
   "outputs": [],
   "source": [
    "text_car = \"Qual a placa do carro? Devolva apenas a placa!\""
   ]
  },
  {
   "cell_type": "code",
   "execution_count": 22,
   "id": "e63b653a",
   "metadata": {},
   "outputs": [],
   "source": [
    "response = client.chat.completions.create(\n",
    "    model=\"gpt-4o-mini\",\n",
    "    messages=[{\n",
    "        \"role\":\"user\",\n",
    "        \"content\":[\n",
    "             {\"type\":\"text\",\"text\":text_car},\n",
    "            {\"type\":\"image_url\",\"image_url\":{\n",
    "                \"url\":\"https://quatrorodas.abril.com.br/wp-content/uploads/2018/09/imagem-e1536873662306.jpg?crop=1&resize=1212,909\"\n",
    "            }}\n",
    "        ]\n",
    "           \n",
    "        \n",
    "    }]\n",
    ")"
   ]
  },
  {
   "cell_type": "code",
   "execution_count": 23,
   "id": "187d677d",
   "metadata": {},
   "outputs": [
    {
     "name": "stdout",
     "output_type": "stream",
     "text": [
      "R102A19\n"
     ]
    }
   ],
   "source": [
    "print(response.choices[0].message.content)"
   ]
  },
  {
   "cell_type": "markdown",
   "id": "571cef3d",
   "metadata": {},
   "source": [
    "## OCR"
   ]
  },
  {
   "cell_type": "code",
   "execution_count": 30,
   "id": "24a0ff6d",
   "metadata": {},
   "outputs": [],
   "source": [
    "text_bilhete = \"O que esta escrito na imagem? Quero apenas o conteudo!\""
   ]
  },
  {
   "cell_type": "code",
   "execution_count": 31,
   "id": "f9de4466",
   "metadata": {},
   "outputs": [],
   "source": [
    "response = client.chat.completions.create(\n",
    "    model=\"gpt-4o-mini\",\n",
    "    messages=[{\n",
    "        \"role\":\"user\",\n",
    "        \"content\":[\n",
    "             {\"type\":\"text\",\"text\":text_bilhete},\n",
    "            {\"type\":\"image_url\",\"image_url\":{\n",
    "                \"url\":\"https://static.ndmais.com.br/2019/04/tchutchuca-800x800.jpg\"\n",
    "            }}\n",
    "        ]\n",
    "           \n",
    "        \n",
    "    }]\n",
    ")"
   ]
  },
  {
   "cell_type": "code",
   "execution_count": 32,
   "id": "b90871a5",
   "metadata": {},
   "outputs": [
    {
     "name": "stdout",
     "output_type": "stream",
     "text": [
      "Claro! Aqui está o conteúdo:\n",
      "\n",
      "\"Querido Zeca,\n",
      "\n",
      "Estou muito orgulhoso da bancada do PT, que teve um papel extraordinário no debate sobre a previdência com o Guedes, 'O destruidor dos pobres'.\n",
      "\n",
      "Zeca, parabéns por compor lo a um 'Tchutchuca' na relação dele como empresário.\n",
      "\n",
      "Eu fiquei tão orgulhoso de você, que vou aprender a música da 'Tchutchuca' e do Tigrão. KKKK\n",
      "\n",
      "Abraços,\n",
      "[Assinatura]\n",
      "04/04/2019\"\n"
     ]
    }
   ],
   "source": [
    "print(response.choices[0].message.content)"
   ]
  },
  {
   "cell_type": "code",
   "execution_count": null,
   "id": "9294e73e",
   "metadata": {},
   "outputs": [],
   "source": []
  }
 ],
 "metadata": {
  "kernelspec": {
   "display_name": "venv",
   "language": "python",
   "name": "python3"
  },
  "language_info": {
   "codemirror_mode": {
    "name": "ipython",
    "version": 3
   },
   "file_extension": ".py",
   "mimetype": "text/x-python",
   "name": "python",
   "nbconvert_exporter": "python",
   "pygments_lexer": "ipython3",
   "version": "3.10.12"
  }
 },
 "nbformat": 4,
 "nbformat_minor": 5
}
