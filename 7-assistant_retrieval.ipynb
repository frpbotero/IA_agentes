{
 "cells": [
  {
   "cell_type": "code",
   "execution_count": 33,
   "id": "e408b02c",
   "metadata": {},
   "outputs": [],
   "source": [
    "import openai"
   ]
  },
  {
   "cell_type": "code",
   "execution_count": 34,
   "id": "a199072a",
   "metadata": {},
   "outputs": [],
   "source": [
    "client = openai.Client()"
   ]
  },
  {
   "cell_type": "markdown",
   "id": "ca1919ae",
   "metadata": {},
   "source": [
    "Vector_store foi movido de beta para namespace principal"
   ]
  },
  {
   "cell_type": "code",
   "execution_count": 35,
   "id": "3f761d3b",
   "metadata": {},
   "outputs": [],
   "source": [
    "vector_store =  client.vector_stores.create(\n",
    "    name = \"Desinger UX\"\n",
    ")"
   ]
  },
  {
   "cell_type": "code",
   "execution_count": 36,
   "id": "a6cd7f60",
   "metadata": {},
   "outputs": [],
   "source": [
    "file = [\"files/heuristicas.pdf\"]\n",
    "file_stream = [open(f,'rb') for f in file]\n",
    "file_batch = client.vector_stores.file_batches.upload_and_poll(\n",
    "    vector_store_id=vector_store.id,\n",
    "    files=file_stream\n",
    ")"
   ]
  },
  {
   "cell_type": "code",
   "execution_count": 37,
   "id": "2af7c764",
   "metadata": {},
   "outputs": [
    {
     "data": {
      "text/plain": [
       "'completed'"
      ]
     },
     "execution_count": 37,
     "metadata": {},
     "output_type": "execute_result"
    }
   ],
   "source": [
    "file_batch.status"
   ]
  },
  {
   "cell_type": "code",
   "execution_count": 38,
   "id": "75340a4f",
   "metadata": {},
   "outputs": [
    {
     "data": {
      "text/plain": [
       "FileCounts(cancelled=0, completed=1, failed=0, in_progress=0, total=1)"
      ]
     },
     "execution_count": 38,
     "metadata": {},
     "output_type": "execute_result"
    }
   ],
   "source": [
    "file_batch.file_counts"
   ]
  },
  {
   "cell_type": "code",
   "execution_count": 39,
   "id": "fb29f711",
   "metadata": {},
   "outputs": [],
   "source": [
    "assistant = client.beta.assistants.create(\n",
    "    name = \"Desinger UX\",\n",
    "    instructions = \"Voce é um experiente desinger User experience.\",\n",
    "    tools = [{\"type\":\"file_search\"}],\n",
    "    tool_resources={\"file_search\":{\"vector_store_ids\":[vector_store.id]}},\n",
    "    model=\"gpt-4-turbo-preview\"\n",
    " )"
   ]
  },
  {
   "cell_type": "code",
   "execution_count": 59,
   "id": "2de6efe2",
   "metadata": {},
   "outputs": [],
   "source": [
    "# pergunta = \"Com base no documento, quais as principais heuristicas?\"\n",
    "pergunta = \"Qual tem mais impacto para o usuário?\""
   ]
  },
  {
   "cell_type": "code",
   "execution_count": 60,
   "id": "f87a1449",
   "metadata": {},
   "outputs": [
    {
     "name": "stderr",
     "output_type": "stream",
     "text": [
      "C:\\Users\\frpbo\\AppData\\Local\\Temp\\ipykernel_21912\\1131807865.py:1: DeprecationWarning: The Assistants API is deprecated in favor of the Responses API\n",
      "  thread = client.beta.threads.create()\n",
      "C:\\Users\\frpbo\\AppData\\Local\\Temp\\ipykernel_21912\\1131807865.py:2: DeprecationWarning: The Assistants API is deprecated in favor of the Responses API\n",
      "  message = client.beta.threads.messages.create(\n"
     ]
    }
   ],
   "source": [
    "thread = client.beta.threads.create()\n",
    "message = client.beta.threads.messages.create(\n",
    "    thread_id=thread.id,\n",
    "    role=\"user\",\n",
    "    content = pergunta\n",
    ")"
   ]
  },
  {
   "cell_type": "code",
   "execution_count": 61,
   "id": "234d984b",
   "metadata": {},
   "outputs": [
    {
     "name": "stderr",
     "output_type": "stream",
     "text": [
      "C:\\Users\\frpbo\\AppData\\Local\\Temp\\ipykernel_21912\\1460489382.py:1: DeprecationWarning: The Assistants API is deprecated in favor of the Responses API\n",
      "  run = client.beta.threads.runs.create(\n"
     ]
    }
   ],
   "source": [
    "run = client.beta.threads.runs.create(\n",
    "    thread_id=thread.id,\n",
    "    assistant_id=assistant.id, \n",
    "    instructions=\"Premium\"\n",
    ")"
   ]
  },
  {
   "cell_type": "code",
   "execution_count": 62,
   "id": "9f3e9fd2",
   "metadata": {},
   "outputs": [
    {
     "name": "stderr",
     "output_type": "stream",
     "text": [
      "C:\\Users\\frpbo\\AppData\\Local\\Temp\\ipykernel_21912\\641873556.py:5: DeprecationWarning: The Assistants API is deprecated in favor of the Responses API\n",
      "  run = client.beta.threads.runs.retrieve(\n"
     ]
    }
   ],
   "source": [
    "import time\n",
    "\n",
    "while run.status in [\"queued\", \"in_progress\", \"cancelling\"]:\n",
    "    time.sleep(1)\n",
    "    run = client.beta.threads.runs.retrieve(\n",
    "        thread_id=thread.id, \n",
    "        run_id=run.id)\n",
    "    "
   ]
  },
  {
   "cell_type": "code",
   "execution_count": 64,
   "id": "8d1e4b2a",
   "metadata": {},
   "outputs": [
    {
     "name": "stderr",
     "output_type": "stream",
     "text": [
      "C:\\Users\\frpbo\\AppData\\Local\\Temp\\ipykernel_21912\\3548958572.py:2: DeprecationWarning: The Assistants API is deprecated in favor of the Responses API\n",
      "  mensagens = client.beta.threads.messages.list(\n"
     ]
    },
    {
     "name": "stdout",
     "output_type": "stream",
     "text": [
      "SyncCursorPage[Message](data=[Message(id='msg_n9S4vskcEEiPMcbGtsh94u7i', assistant_id='asst_ey0WXWbzvUrTZ4F1R9R9Bnbm', attachments=[], completed_at=None, content=[TextContentBlock(text=Text(annotations=[FileCitationAnnotation(end_index=632, file_citation=FileCitation(file_id='file-VFBpLgUjyGbSqP8X2ctdDy'), start_index=611, text='【4:2†heuristicas.pdf】', type='file_citation'), FileCitationAnnotation(end_index=939, file_citation=FileCitation(file_id='file-VFBpLgUjyGbSqP8X2ctdDy'), start_index=918, text='【4:3†heuristicas.pdf】', type='file_citation'), FileCitationAnnotation(end_index=1172, file_citation=FileCitation(file_id='file-VFBpLgUjyGbSqP8X2ctdDy'), start_index=1151, text='【4:0†heuristicas.pdf】', type='file_citation')], value='As 10 heurísticas de Nielsen cobrem uma ampla gama de aspectos importantes para melhorar a usabilidade de interfaces digitais, o que tem um grande impacto na experiência do usuário. Cada heurística aborda diferentes elementos cruciais para a criação de um produto digital eficaz e agradável. Aqui estão alguns destaques que exemplificam o impacto desses princípios:\\n\\n1. **Visibilidade do status do sistema**: Manter os usuários informados sobre o que está acontecendo, oferecendo feedbacks instantâneos. Isso orienta o usuário sobre a ação que está acontecendo e é essencial para manter a confiança na interface【4:2†heuristicas.pdf】.\\n\\n2. **Estética e design minimalista**: Um bom design não é apenas sobre aparência; também é sobre funcionalidade. Um site da Apple, por exemplo, é frequentemente citado por seu design minimalista que não apenas parece bom, mas também facilita a localização de informações pelo usuário【4:3†heuristicas.pdf】.\\n\\n3. **Ajuda os usuários a reconhecer, diagnosticar e recuperar erros**: Mensagens de erro claras e orientações de correção ajudam a diminuir a frustração do usuário e aumentar a eficácia na solução de problemas【4:0†heuristicas.pdf】.\\n\\n4. **Prevenção de erros**: Proporcionar maneiras de prevenir erros antes que aconteçam, através de confirmações ou sinalizações, é uma forma eficaz de melhorar a experiência do usuário, minimizando frustrações e interrupções desnecessárias .\\n\\nEsses exemplos destacam como a aplicação cuidadosa das heurísticas de Nielsen pode melhorar significativamente a experiência do usuário. Cada princípio visa reduzir problemas, melhorar a compreensão e tornar as interfaces digitais mais intuitivas e acessíveis.\\n\\nDado o impacto dessas heurísticas no design de interface, é difícil determinar qual tem o maior impacto isoladamente, pois elas são melhor aplicadas em conjunto para criar uma experiência de usuário coesa e positiva. Ainda assim, elementos como a visibilidade do status do sistema e a prevenção de erros tendem a ter um impacto direto e imediato na satisfação do usuário, evitando confusões e frustrações durante a interação com a interface.'), type='text')], created_at=1750036954, incomplete_at=None, incomplete_details=None, metadata={}, object='thread.message', role='assistant', run_id='run_wwYVuJ89QUPPVgYDyEYbjTYO', status=None, thread_id='thread_avkBcS370h8IwBbAkOi6s13g'), Message(id='msg_WASjiZ4EgqYqGbGRFIsWDIhP', assistant_id=None, attachments=[], completed_at=None, content=[TextContentBlock(text=Text(annotations=[], value='Qual tem mais impacto para o usuário?'), type='text')], created_at=1750036947, incomplete_at=None, incomplete_details=None, metadata={}, object='thread.message', role='user', run_id=None, status=None, thread_id='thread_avkBcS370h8IwBbAkOi6s13g')], has_more=False, object='list', first_id='msg_n9S4vskcEEiPMcbGtsh94u7i', last_id='msg_WASjiZ4EgqYqGbGRFIsWDIhP')\n"
     ]
    }
   ],
   "source": [
    "if run.status == \"completed\":\n",
    "    mensagens = client.beta.threads.messages.list(\n",
    "        thread_id = thread.id\n",
    "    )\n",
    "    print(mensagens)\n",
    "else:\n",
    "    print(f'Erro {run.status}')"
   ]
  },
  {
   "cell_type": "code",
   "execution_count": 65,
   "id": "8611fc31",
   "metadata": {},
   "outputs": [
    {
     "name": "stdout",
     "output_type": "stream",
     "text": [
      "As 10 heurísticas de Nielsen cobrem uma ampla gama de aspectos importantes para melhorar a usabilidade de interfaces digitais, o que tem um grande impacto na experiência do usuário. Cada heurística aborda diferentes elementos cruciais para a criação de um produto digital eficaz e agradável. Aqui estão alguns destaques que exemplificam o impacto desses princípios:\n",
      "\n",
      "1. **Visibilidade do status do sistema**: Manter os usuários informados sobre o que está acontecendo, oferecendo feedbacks instantâneos. Isso orienta o usuário sobre a ação que está acontecendo e é essencial para manter a confiança na interface【4:2†heuristicas.pdf】.\n",
      "\n",
      "2. **Estética e design minimalista**: Um bom design não é apenas sobre aparência; também é sobre funcionalidade. Um site da Apple, por exemplo, é frequentemente citado por seu design minimalista que não apenas parece bom, mas também facilita a localização de informações pelo usuário【4:3†heuristicas.pdf】.\n",
      "\n",
      "3. **Ajuda os usuários a reconhecer, diagnosticar e recuperar erros**: Mensagens de erro claras e orientações de correção ajudam a diminuir a frustração do usuário e aumentar a eficácia na solução de problemas【4:0†heuristicas.pdf】.\n",
      "\n",
      "4. **Prevenção de erros**: Proporcionar maneiras de prevenir erros antes que aconteçam, através de confirmações ou sinalizações, é uma forma eficaz de melhorar a experiência do usuário, minimizando frustrações e interrupções desnecessárias .\n",
      "\n",
      "Esses exemplos destacam como a aplicação cuidadosa das heurísticas de Nielsen pode melhorar significativamente a experiência do usuário. Cada princípio visa reduzir problemas, melhorar a compreensão e tornar as interfaces digitais mais intuitivas e acessíveis.\n",
      "\n",
      "Dado o impacto dessas heurísticas no design de interface, é difícil determinar qual tem o maior impacto isoladamente, pois elas são melhor aplicadas em conjunto para criar uma experiência de usuário coesa e positiva. Ainda assim, elementos como a visibilidade do status do sistema e a prevenção de erros tendem a ter um impacto direto e imediato na satisfação do usuário, evitando confusões e frustrações durante a interação com a interface.\n"
     ]
    }
   ],
   "source": [
    "print(mensagens.data[0].content[0].text.value)"
   ]
  },
  {
   "cell_type": "code",
   "execution_count": 66,
   "id": "bd2954b2",
   "metadata": {},
   "outputs": [
    {
     "name": "stderr",
     "output_type": "stream",
     "text": [
      "C:\\Users\\frpbo\\AppData\\Local\\Temp\\ipykernel_21912\\2960082042.py:1: DeprecationWarning: The Assistants API is deprecated in favor of the Responses API\n",
      "  run_steps = client.beta.threads.runs.steps.list(\n"
     ]
    }
   ],
   "source": [
    "run_steps = client.beta.threads.runs.steps.list(\n",
    "    thread_id=thread.id,\n",
    "    run_id=run.id\n",
    ")"
   ]
  },
  {
   "cell_type": "code",
   "execution_count": 75,
   "id": "6d1fc24e",
   "metadata": {},
   "outputs": [
    {
     "name": "stdout",
     "output_type": "stream",
     "text": [
      "\n",
      "📌 Step: message_creation\n"
     ]
    },
    {
     "name": "stderr",
     "output_type": "stream",
     "text": [
      "C:\\Users\\frpbo\\AppData\\Local\\Temp\\ipykernel_21912\\3652955666.py:5: DeprecationWarning: The Assistants API is deprecated in favor of the Responses API\n",
      "  message = client.beta.threads.messages.retrieve(\n"
     ]
    },
    {
     "name": "stdout",
     "output_type": "stream",
     "text": [
      "💬 Resposta:\n",
      "As 10 heurísticas de Nielsen cobrem uma ampla gama de aspectos importantes para melhorar a usabilidade de interfaces digitais, o que tem um grande impacto na experiência do usuário. Cada heurística aborda diferentes elementos cruciais para a criação de um produto digital eficaz e agradável. Aqui estão alguns destaques que exemplificam o impacto desses princípios:\n",
      "\n",
      "1. **Visibilidade do status do sistema**: Manter os usuários informados sobre o que está acontecendo, oferecendo feedbacks instantâneos. Isso orienta o usuário sobre a ação que está acontecendo e é essencial para manter a confiança na interface【4:2†heuristicas.pdf】.\n",
      "\n",
      "2. **Estética e design minimalista**: Um bom design não é apenas sobre aparência; também é sobre funcionalidade. Um site da Apple, por exemplo, é frequentemente citado por seu design minimalista que não apenas parece bom, mas também facilita a localização de informações pelo usuário【4:3†heuristicas.pdf】.\n",
      "\n",
      "3. **Ajuda os usuários a reconhecer, diagnosticar e recuperar erros**: Mensagens de erro claras e orientações de correção ajudam a diminuir a frustração do usuário e aumentar a eficácia na solução de problemas【4:0†heuristicas.pdf】.\n",
      "\n",
      "4. **Prevenção de erros**: Proporcionar maneiras de prevenir erros antes que aconteçam, através de confirmações ou sinalizações, é uma forma eficaz de melhorar a experiência do usuário, minimizando frustrações e interrupções desnecessárias .\n",
      "\n",
      "Esses exemplos destacam como a aplicação cuidadosa das heurísticas de Nielsen pode melhorar significativamente a experiência do usuário. Cada princípio visa reduzir problemas, melhorar a compreensão e tornar as interfaces digitais mais intuitivas e acessíveis.\n",
      "\n",
      "Dado o impacto dessas heurísticas no design de interface, é difícil determinar qual tem o maior impacto isoladamente, pois elas são melhor aplicadas em conjunto para criar uma experiência de usuário coesa e positiva. Ainda assim, elementos como a visibilidade do status do sistema e a prevenção de erros tendem a ter um impacto direto e imediato na satisfação do usuário, evitando confusões e frustrações durante a interação com a interface.\n",
      "\n",
      "📌 Step: tool_calls\n",
      "AQUI file_search\n",
      "FileSearchToolCall(id='call_HjnKKSN8xyUfMFkdLzfjoruD', file_search=FileSearch(ranking_options=FileSearchRankingOptions(ranker='default_2024_08_21', score_threshold=0.0), results=[FileSearchResult(file_id='file-VFBpLgUjyGbSqP8X2ctdDy', file_name='heuristicas.pdf', score=0.5768828197243434, content=None, attributes={}), FileSearchResult(file_id='file-VFBpLgUjyGbSqP8X2ctdDy', file_name='heuristicas.pdf', score=0.5734987876371638, content=None, attributes={}), FileSearchResult(file_id='file-VFBpLgUjyGbSqP8X2ctdDy', file_name='heuristicas.pdf', score=0.5720087570385969, content=None, attributes={}), FileSearchResult(file_id='file-VFBpLgUjyGbSqP8X2ctdDy', file_name='heuristicas.pdf', score=0.5686663326454958, content=None, attributes={}), FileSearchResult(file_id='file-VFBpLgUjyGbSqP8X2ctdDy', file_name='heuristicas.pdf', score=0.5587085985087125, content=None, attributes={}), FileSearchResult(file_id='file-VFBpLgUjyGbSqP8X2ctdDy', file_name='heuristicas.pdf', score=0.5502049328001241, content=None, attributes={}), FileSearchResult(file_id='file-VFBpLgUjyGbSqP8X2ctdDy', file_name='heuristicas.pdf', score=0.5274434106974768, content=None, attributes={}), FileSearchResult(file_id='file-VFBpLgUjyGbSqP8X2ctdDy', file_name='heuristicas.pdf', score=0.35839965128120904, content=None, attributes={}), FileSearchResult(file_id='file-VFBpLgUjyGbSqP8X2ctdDy', file_name='heuristicas.pdf', score=0.3570602172443029, content=None, attributes={})]), type='file_search')\n",
      "file-VFBpLgUjyGbSqP8X2ctdDy - 0.5768828197243434\n",
      "📂 Busca vetorial foi executada com sucesso.\n",
      "file-VFBpLgUjyGbSqP8X2ctdDy - 0.5734987876371638\n",
      "📂 Busca vetorial foi executada com sucesso.\n",
      "file-VFBpLgUjyGbSqP8X2ctdDy - 0.5720087570385969\n",
      "📂 Busca vetorial foi executada com sucesso.\n",
      "file-VFBpLgUjyGbSqP8X2ctdDy - 0.5686663326454958\n",
      "📂 Busca vetorial foi executada com sucesso.\n",
      "file-VFBpLgUjyGbSqP8X2ctdDy - 0.5587085985087125\n",
      "📂 Busca vetorial foi executada com sucesso.\n",
      "file-VFBpLgUjyGbSqP8X2ctdDy - 0.5502049328001241\n",
      "📂 Busca vetorial foi executada com sucesso.\n",
      "file-VFBpLgUjyGbSqP8X2ctdDy - 0.5274434106974768\n",
      "📂 Busca vetorial foi executada com sucesso.\n",
      "file-VFBpLgUjyGbSqP8X2ctdDy - 0.35839965128120904\n",
      "📂 Busca vetorial foi executada com sucesso.\n",
      "file-VFBpLgUjyGbSqP8X2ctdDy - 0.3570602172443029\n",
      "📂 Busca vetorial foi executada com sucesso.\n"
     ]
    }
   ],
   "source": [
    "for step in run_steps.data:\n",
    "    print(f\"\\n📌 Step: {step.step_details.type}\")\n",
    "\n",
    "    if step.type == \"message_creation\":\n",
    "        message = client.beta.threads.messages.retrieve(\n",
    "            thread_id=thread.id,\n",
    "            message_id=step.step_details.message_creation.message_id\n",
    "        )\n",
    "\n",
    "        for content in message.content:\n",
    "            if content.type == \"text\":\n",
    "                print(\"💬 Resposta:\")\n",
    "                print(content.text.value)\n",
    "\n",
    "            elif content.type == \"file_citation\":\n",
    "                print(\"📄 Citação de arquivo:\")\n",
    "                print(f\"🔹 Trecho: {content.file_citation.quote}\")\n",
    "                print(f\"🔹 Arquivo ID: {content.file_citation.file_id}\")\n",
    "\n",
    "    elif step.type == \"tool_calls\":\n",
    "        for call in step.step_details.tool_calls:\n",
    "            print(\"AQUI\",call.type)\n",
    "            print(call)\n",
    "            if call.type == \"code_interpreter\":\n",
    "                print(\"🧮 Código executado:\")\n",
    "                print(call.code_interpreter.input)\n",
    "            elif call.type == \"file_search\":\n",
    "                for file in call.file_search.results:\n",
    "                    print(f'{file.file_id} - {file.score}' )\n",
    "                    print(\"📂 Busca vetorial foi executada com sucesso.\")\n"
   ]
  }
 ],
 "metadata": {
  "kernelspec": {
   "display_name": "venv",
   "language": "python",
   "name": "python3"
  },
  "language_info": {
   "codemirror_mode": {
    "name": "ipython",
    "version": 3
   },
   "file_extension": ".py",
   "mimetype": "text/x-python",
   "name": "python",
   "nbconvert_exporter": "python",
   "pygments_lexer": "ipython3",
   "version": "3.12.6"
  }
 },
 "nbformat": 4,
 "nbformat_minor": 5
}
