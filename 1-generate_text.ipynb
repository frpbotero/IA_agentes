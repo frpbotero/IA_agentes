{
 "cells": [
  {
   "cell_type": "code",
   "execution_count": 6,
   "id": "ead183ab",
   "metadata": {},
   "outputs": [],
   "source": [
    "import openai"
   ]
  },
  {
   "cell_type": "code",
   "execution_count": 7,
   "id": "e41256c3",
   "metadata": {},
   "outputs": [],
   "source": [
    "client = openai.Client()"
   ]
  },
  {
   "cell_type": "markdown",
   "id": "d09d174c",
   "metadata": {},
   "source": [
    "### Conversation Flow\n",
    "\n",
    "user: Usuario que inicia conversa\n",
    "\n",
    "assistant: bot que responde"
   ]
  },
  {
   "cell_type": "code",
   "execution_count": 9,
   "id": "8d6e9e8c",
   "metadata": {},
   "outputs": [],
   "source": [
    "mensagens =[{\"role\": \"user\", \"content\": \"Defina amazonense em 5 palavras.\"}]"
   ]
  },
  {
   "cell_type": "code",
   "execution_count": 10,
   "id": "ef747a19",
   "metadata": {},
   "outputs": [],
   "source": [
    "response = client.chat.completions.create(\n",
    "    messages=mensagens,\n",
    "    model=\"gpt-3.5-turbo-0125\",\n",
    "    max_tokens=1000,\n",
    "    temperature=0\n",
    "    )"
   ]
  },
  {
   "cell_type": "code",
   "execution_count": 11,
   "id": "46a17f7b",
   "metadata": {},
   "outputs": [
    {
     "data": {
      "text/plain": [
       "ChatCompletion(id='chatcmpl-BeYIYPT3UrUBHOJTrQfsceE3ZofYi', choices=[Choice(finish_reason='stop', index=0, logprobs=None, message=ChatCompletionMessage(content='Natural do estado do Amazonas.', refusal=None, role='assistant', annotations=[], audio=None, function_call=None, tool_calls=None))], created=1749004662, model='gpt-3.5-turbo-0125', object='chat.completion', service_tier='default', system_fingerprint=None, usage=CompletionUsage(completion_tokens=7, prompt_tokens=17, total_tokens=24, completion_tokens_details=CompletionTokensDetails(accepted_prediction_tokens=0, audio_tokens=0, reasoning_tokens=0, rejected_prediction_tokens=0), prompt_tokens_details=PromptTokensDetails(audio_tokens=0, cached_tokens=0)))"
      ]
     },
     "execution_count": 11,
     "metadata": {},
     "output_type": "execute_result"
    }
   ],
   "source": [
    "response"
   ]
  },
  {
   "cell_type": "code",
   "execution_count": 12,
   "id": "d1802c16",
   "metadata": {},
   "outputs": [
    {
     "data": {
      "text/plain": [
       "'Natural do estado do Amazonas.'"
      ]
     },
     "execution_count": 12,
     "metadata": {},
     "output_type": "execute_result"
    }
   ],
   "source": [
    "response.choices[0].message.content"
   ]
  },
  {
   "cell_type": "code",
   "execution_count": 13,
   "id": "b252de36",
   "metadata": {},
   "outputs": [],
   "source": [
    "mensagens.append({\"role\": \"assistant\", \"content\": response.choices[0].message.content})"
   ]
  },
  {
   "cell_type": "code",
   "execution_count": 16,
   "id": "c8b33aed",
   "metadata": {},
   "outputs": [],
   "source": [
    "mensagens.append({\"role\":\"user\", \"content\": \"E como é o sotaque?\"})\n",
    "response = client.chat.completions.create(\n",
    "    messages=mensagens,\n",
    "    model=\"gpt-3.5-turbo-0125\",\n",
    "    max_tokens=1000,\n",
    "    temperature=0\n",
    ")"
   ]
  },
  {
   "cell_type": "code",
   "execution_count": 19,
   "id": "507206a9",
   "metadata": {},
   "outputs": [
    {
     "data": {
      "text/plain": [
       "'O sotaque amazonense é caracterizado por uma pronúncia mais arrastada e pausada, com influências indígenas e portuguesas. É comum o uso de expressões locais e uma entonação peculiar, que varia de acordo com a região do estado.'"
      ]
     },
     "execution_count": 19,
     "metadata": {},
     "output_type": "execute_result"
    }
   ],
   "source": [
    "response.choices[0].message.content"
   ]
  },
  {
   "cell_type": "code",
   "execution_count": 20,
   "id": "4547cf9a",
   "metadata": {},
   "outputs": [],
   "source": [
    "mensagens.append({\"role\": \"assistant\", \"content\": response.choices[0].message.content})"
   ]
  },
  {
   "cell_type": "code",
   "execution_count": 21,
   "id": "c74eb865",
   "metadata": {},
   "outputs": [
    {
     "data": {
      "text/plain": [
       "[{'role': 'user', 'content': 'Defina amazonense em 5 palavras.'},\n",
       " {'role': 'assistant', 'content': 'Natural do estado do Amazonas.'},\n",
       " {'role': 'user', 'content': 'E como é o sotaque amazonense?'},\n",
       " {'role': 'user', 'content': 'E como é o sotaque?'},\n",
       " {'role': 'assistant',\n",
       "  'content': 'O sotaque amazonense é caracterizado por uma pronúncia mais arrastada e pausada, com influências indígenas e portuguesas. É comum o uso de expressões locais e uma entonação peculiar, que varia de acordo com a região do estado.'}]"
      ]
     },
     "execution_count": 21,
     "metadata": {},
     "output_type": "execute_result"
    }
   ],
   "source": [
    "mensagens"
   ]
  },
  {
   "cell_type": "code",
   "execution_count": null,
   "id": "479c3f0b",
   "metadata": {},
   "outputs": [],
   "source": [
    "def gen_text(msgs, model=\"gpt-3.5-turbo-0125\", max_tokens=1000, temperature=0):\n",
    "    response = client.chat.completions.create(\n",
    "        messages=msgs,\n",
    "        model=model,\n",
    "        max_tokens=max_tokens,\n",
    "        temperature=temperature\n",
    "    )\n",
    "    msgs.append({\"role\": \"assistant\", \"content\": response.choices[0].message.content})\n",
    "    return msgs"
   ]
  },
  {
   "cell_type": "code",
   "execution_count": 25,
   "id": "a40480e6",
   "metadata": {},
   "outputs": [],
   "source": [
    "msg1 = [{\"role\":\"user\",\"content\": \"Defina api em 5 palavras\"}]\n",
    "mensagens = gen_text(msg1)"
   ]
  },
  {
   "cell_type": "code",
   "execution_count": 26,
   "id": "aa6181da",
   "metadata": {},
   "outputs": [
    {
     "data": {
      "text/plain": [
       "[{'role': 'user', 'content': 'Defina api em 5 palavras'},\n",
       " {'role': 'assistant', 'content': 'Interface de programação de aplicativos.'}]"
      ]
     },
     "execution_count": 26,
     "metadata": {},
     "output_type": "execute_result"
    }
   ],
   "source": [
    "mensagens"
   ]
  },
  {
   "cell_type": "markdown",
   "id": "720415b0",
   "metadata": {},
   "source": []
  },
  {
   "cell_type": "markdown",
   "id": "b8ffd25b",
   "metadata": {},
   "source": [
    "### Stream"
   ]
  },
  {
   "cell_type": "code",
   "execution_count": 28,
   "id": "b97f2bb6",
   "metadata": {},
   "outputs": [],
   "source": [
    "msgs = [{\"role\": \"user\", \"content\": \"Conte uma historia de terror.\"}]\n",
    "\n",
    "response = client.chat.completions.create(\n",
    "        messages=msgs,\n",
    "        model=\"gpt-3.5-turbo-0125\",\n",
    "        max_tokens=1000,\n",
    "        temperature=0,\n",
    "        stream=True\n",
    "    )"
   ]
  },
  {
   "cell_type": "code",
   "execution_count": 29,
   "id": "ea4a36b5",
   "metadata": {},
   "outputs": [
    {
     "data": {
      "text/plain": [
       "<openai.Stream at 0x7e3299a2e3c0>"
      ]
     },
     "execution_count": 29,
     "metadata": {},
     "output_type": "execute_result"
    }
   ],
   "source": [
    "response"
   ]
  },
  {
   "cell_type": "code",
   "execution_count": null,
   "id": "cb65d6d7",
   "metadata": {},
   "outputs": [],
   "source": []
  },
  {
   "cell_type": "code",
   "execution_count": 30,
   "id": "e7e1e6de",
   "metadata": {},
   "outputs": [
    {
     "name": "stdout",
     "output_type": "stream",
     "text": [
      "Era uma noite escura e chuvosa, perfeita para uma história de terror. Um grupo de amigos decidiu explorar uma antiga casa abandonada na floresta, conhecida por ser assombrada. Eles estavam animados e curiosos para descobrir se os rumores eram verdadeiros.\n",
      "\n",
      "Ao entrarem na casa, sentiram um arrepio percorrer suas espinhas. O ambiente estava gelado e cheirava a mofo. As paredes estavam cobertas de teias de aranha e o chão rangia a cada passo que davam. De repente, ouviram um barulho vindo do andar de cima.\n",
      "\n",
      "Os amigos decidiram subir as escadas lentamente, com medo do que poderiam encontrar. Ao chegarem no segundo andar, viram uma figura pálida e sinistra parada no final do corredor. Seus olhos brilhavam no escuro e um sorriso macabro se formou em seus lábios.\n",
      "\n",
      "Sem pensar duas vezes, os amigos correram escada abaixo, tentando desesperadamente sair da casa assombrada. Mas a porta da frente estava trancada e não havia como escapar. A figura sinistra se aproximava lentamente, com passos arrastados e um riso maléfico ecoando pelo ambiente.\n",
      "\n",
      "Os amigos se encolheram em um canto, esperando pelo pior. A figura se aproximou cada vez mais, até que finalmente revelou seu rosto. Era o fantasma de uma mulher que havia sido assassinada naquela casa anos atrás. Ela estava em busca de vingança e não descansaria até que todos ali presentes pagassem pelo seu sofrimento.\n",
      "\n",
      "Os amigos gritaram de terror enquanto o fantasma se aproximava lentamente, com seus olhos vazios e sua boca aberta em um grito silencioso. Eles sabiam que não havia como escapar da ira daquela alma atormentada. E assim, a antiga casa abandonada na floresta se tornou o lar de mais uma tragédia, onde os gritos ecoavam para sempre na escuridão da noite.None"
     ]
    }
   ],
   "source": [
    "for response_part in response:\n",
    "    print(response_part.choices[0].delta.content, end='')"
   ]
  }
 ],
 "metadata": {
  "kernelspec": {
   "display_name": "venv",
   "language": "python",
   "name": "python3"
  },
  "language_info": {
   "codemirror_mode": {
    "name": "ipython",
    "version": 3
   },
   "file_extension": ".py",
   "mimetype": "text/x-python",
   "name": "python",
   "nbconvert_exporter": "python",
   "pygments_lexer": "ipython3",
   "version": "3.12.3"
  }
 },
 "nbformat": 4,
 "nbformat_minor": 5
}
