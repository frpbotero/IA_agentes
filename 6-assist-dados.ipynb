{
 "cells": [
  {
   "cell_type": "markdown",
   "id": "66f9b85b",
   "metadata": {},
   "source": [
    "### Importando pacotes necessarios"
   ]
  },
  {
   "cell_type": "code",
   "execution_count": 20,
   "id": "61191994",
   "metadata": {},
   "outputs": [],
   "source": [
    "import openai\n",
    "import pandas as pd"
   ]
  },
  {
   "cell_type": "markdown",
   "id": "68cbb1ec",
   "metadata": {},
   "source": [
    "### Criando cliente OpenAI"
   ]
  },
  {
   "cell_type": "code",
   "execution_count": 21,
   "id": "037ef857",
   "metadata": {},
   "outputs": [],
   "source": [
    "client  =openai.Client()"
   ]
  },
  {
   "cell_type": "markdown",
   "id": "e3c4a62c",
   "metadata": {},
   "source": [
    "### Carregando arquivo para análise"
   ]
  },
  {
   "cell_type": "code",
   "execution_count": 22,
   "id": "7c8d73ee",
   "metadata": {},
   "outputs": [],
   "source": [
    "file = client.files.create (\n",
    "    file=open(\"sales_data.csv\",\"rb\"),\n",
    "    purpose = \"assistants\"\n",
    ")"
   ]
  },
  {
   "cell_type": "markdown",
   "id": "70ec5aec",
   "metadata": {},
   "source": [
    "#### * Imprimindo id de registro do arquivo"
   ]
  },
  {
   "cell_type": "code",
   "execution_count": 23,
   "id": "17a23c53",
   "metadata": {},
   "outputs": [
    {
     "name": "stdout",
     "output_type": "stream",
     "text": [
      "file-8riPWZe5gjZ8zf8yCXdpj3\n"
     ]
    }
   ],
   "source": [
    "print(file.id)"
   ]
  },
  {
   "cell_type": "markdown",
   "id": "0ef5ef24",
   "metadata": {},
   "source": [
    "### Criando Assistente"
   ]
  },
  {
   "cell_type": "code",
   "execution_count": 24,
   "id": "17761a3b",
   "metadata": {},
   "outputs": [],
   "source": [
    "assistant = client.beta.assistants.create(\n",
    "    name=\"Analista de dados\",\n",
    "    instructions = \"Você é uma analista de dados, que tem a responsabilidade de analisar dados sobre vendas\",\n",
    "    tools=[{\"type\":\"code_interpreter\"}],\n",
    "    tool_resources={\"code_interpreter\":{\"file_ids\":[file.id]}},\n",
    "    model=\"gpt-4o\"\n",
    ")"
   ]
  },
  {
   "cell_type": "markdown",
   "id": "e2faf363",
   "metadata": {},
   "source": [
    "### Carregando pergunta"
   ]
  },
  {
   "cell_type": "code",
   "execution_count": 25,
   "id": "95b069fb",
   "metadata": {},
   "outputs": [],
   "source": [
    "# pergunta = \"Qual o rating médio das vendas do supermecado?\"\n",
    "pergunta = \"Gere um grafico de pizza com percentual de vendas por sexo\""
   ]
  },
  {
   "cell_type": "markdown",
   "id": "9cee9fca",
   "metadata": {},
   "source": [
    "### Criando Thread"
   ]
  },
  {
   "cell_type": "code",
   "execution_count": 26,
   "id": "42f6db33",
   "metadata": {},
   "outputs": [
    {
     "name": "stderr",
     "output_type": "stream",
     "text": [
      "C:\\Users\\frpbo\\AppData\\Local\\Temp\\ipykernel_8468\\1131807865.py:1: DeprecationWarning: The Assistants API is deprecated in favor of the Responses API\n",
      "  thread = client.beta.threads.create()\n",
      "C:\\Users\\frpbo\\AppData\\Local\\Temp\\ipykernel_8468\\1131807865.py:2: DeprecationWarning: The Assistants API is deprecated in favor of the Responses API\n",
      "  message = client.beta.threads.messages.create(\n"
     ]
    }
   ],
   "source": [
    "thread = client.beta.threads.create()\n",
    "message = client.beta.threads.messages.create(\n",
    "    thread_id=thread.id,\n",
    "    role=\"user\",\n",
    "    content = pergunta\n",
    ")"
   ]
  },
  {
   "cell_type": "markdown",
   "id": "c137dde6",
   "metadata": {},
   "source": [
    "### Executando Thread"
   ]
  },
  {
   "cell_type": "code",
   "execution_count": 27,
   "id": "2fd5963e",
   "metadata": {},
   "outputs": [
    {
     "name": "stderr",
     "output_type": "stream",
     "text": [
      "C:\\Users\\frpbo\\AppData\\Local\\Temp\\ipykernel_8468\\1460489382.py:1: DeprecationWarning: The Assistants API is deprecated in favor of the Responses API\n",
      "  run = client.beta.threads.runs.create(\n"
     ]
    }
   ],
   "source": [
    "run = client.beta.threads.runs.create(\n",
    "    thread_id=thread.id,\n",
    "    assistant_id=assistant.id, \n",
    "    instructions=\"Premium\"\n",
    ")"
   ]
  },
  {
   "cell_type": "markdown",
   "id": "b322a07d",
   "metadata": {},
   "source": [
    "#### * Verificando status da Thread"
   ]
  },
  {
   "cell_type": "code",
   "execution_count": 30,
   "id": "fa35ab35",
   "metadata": {},
   "outputs": [
    {
     "name": "stderr",
     "output_type": "stream",
     "text": [
      "C:\\Users\\frpbo\\AppData\\Local\\Temp\\ipykernel_8468\\2160164208.py:4: DeprecationWarning: The Assistants API is deprecated in favor of the Responses API\n",
      "  run_status = client.beta.threads.runs.retrieve(thread_id=thread.id, run_id=run.id)\n"
     ]
    }
   ],
   "source": [
    "import time\n",
    "\n",
    "while True:\n",
    "    run_status = client.beta.threads.runs.retrieve(thread_id=thread.id, run_id=run.id)\n",
    "    if run_status.status in [\"completed\", \"failed\", \"cancelled\"]:\n",
    "        break\n",
    "    time.sleep(1)\n"
   ]
  },
  {
   "cell_type": "markdown",
   "id": "28381bfb",
   "metadata": {},
   "source": [
    "#### * Exibindo mensagens"
   ]
  },
  {
   "cell_type": "code",
   "execution_count": 31,
   "id": "efdbefbd",
   "metadata": {},
   "outputs": [
    {
     "name": "stderr",
     "output_type": "stream",
     "text": [
      "C:\\Users\\frpbo\\AppData\\Local\\Temp\\ipykernel_8468\\1076570648.py:1: DeprecationWarning: The Assistants API is deprecated in favor of the Responses API\n",
      "  messages = client.beta.threads.messages.list(\n"
     ]
    },
    {
     "ename": "AttributeError",
     "evalue": "'ImageFileContentBlock' object has no attribute 'text'",
     "output_type": "error",
     "traceback": [
      "\u001b[31m---------------------------------------------------------------------------\u001b[39m",
      "\u001b[31mAttributeError\u001b[39m                            Traceback (most recent call last)",
      "\u001b[36mCell\u001b[39m\u001b[36m \u001b[39m\u001b[32mIn[31]\u001b[39m\u001b[32m, line 6\u001b[39m\n\u001b[32m      1\u001b[39m messages = client.beta.threads.messages.list(\n\u001b[32m      2\u001b[39m     thread_id=thread.id\n\u001b[32m      3\u001b[39m )\n\u001b[32m      5\u001b[39m \u001b[38;5;28;01mfor\u001b[39;00m msg \u001b[38;5;129;01min\u001b[39;00m messages.data:\n\u001b[32m----> \u001b[39m\u001b[32m6\u001b[39m     \u001b[38;5;28mprint\u001b[39m(msg.role, \u001b[33m\"\u001b[39m\u001b[33m:\u001b[39m\u001b[33m\"\u001b[39m, \u001b[43mmsg\u001b[49m\u001b[43m.\u001b[49m\u001b[43mcontent\u001b[49m\u001b[43m[\u001b[49m\u001b[32;43m0\u001b[39;49m\u001b[43m]\u001b[49m\u001b[43m.\u001b[49m\u001b[43mtext\u001b[49m.value)\n",
      "\u001b[36mFile \u001b[39m\u001b[32mc:\\Users\\frpbo\\OneDrive\\Documentos\\Cursos\\IA\\openapi-app\\venv\\Lib\\site-packages\\pydantic\\main.py:991\u001b[39m, in \u001b[36mBaseModel.__getattr__\u001b[39m\u001b[34m(self, item)\u001b[39m\n\u001b[32m    988\u001b[39m     \u001b[38;5;28;01mreturn\u001b[39;00m \u001b[38;5;28msuper\u001b[39m().\u001b[34m__getattribute__\u001b[39m(item)  \u001b[38;5;66;03m# Raises AttributeError if appropriate\u001b[39;00m\n\u001b[32m    989\u001b[39m \u001b[38;5;28;01melse\u001b[39;00m:\n\u001b[32m    990\u001b[39m     \u001b[38;5;66;03m# this is the current error\u001b[39;00m\n\u001b[32m--> \u001b[39m\u001b[32m991\u001b[39m     \u001b[38;5;28;01mraise\u001b[39;00m \u001b[38;5;167;01mAttributeError\u001b[39;00m(\u001b[33mf\u001b[39m\u001b[33m'\u001b[39m\u001b[38;5;132;01m{\u001b[39;00m\u001b[38;5;28mtype\u001b[39m(\u001b[38;5;28mself\u001b[39m).\u001b[34m__name__\u001b[39m\u001b[38;5;132;01m!r}\u001b[39;00m\u001b[33m object has no attribute \u001b[39m\u001b[38;5;132;01m{\u001b[39;00mitem\u001b[38;5;132;01m!r}\u001b[39;00m\u001b[33m'\u001b[39m)\n",
      "\u001b[31mAttributeError\u001b[39m: 'ImageFileContentBlock' object has no attribute 'text'"
     ]
    }
   ],
   "source": [
    "messages = client.beta.threads.messages.list(\n",
    "    thread_id=thread.id\n",
    ")\n",
    "\n",
    "for msg in messages.data:\n",
    "    print(msg.role, \":\", msg.content[0].text.value)\n"
   ]
  },
  {
   "cell_type": "markdown",
   "id": "4bae3485",
   "metadata": {},
   "source": [
    "## Analise dos passos do modelo:\n"
   ]
  },
  {
   "cell_type": "markdown",
   "id": "20ad29e6",
   "metadata": {},
   "source": [
    "#### Carregando passos"
   ]
  },
  {
   "cell_type": "code",
   "execution_count": null,
   "id": "206c741d",
   "metadata": {},
   "outputs": [
    {
     "name": "stderr",
     "output_type": "stream",
     "text": [
      "C:\\Users\\frpbo\\AppData\\Local\\Temp\\ipykernel_8468\\975397378.py:3: DeprecationWarning: The Assistants API is deprecated in favor of the Responses API\n",
      "  run_steps = client.beta.threads.runs.steps.list(\n"
     ]
    }
   ],
   "source": [
    "\n",
    "run_steps = client.beta.threads.runs.steps.list(\n",
    "    thread_id=thread.id,\n",
    "    run_id=run.id\n",
    ")"
   ]
  },
  {
   "cell_type": "markdown",
   "id": "6e3c2884",
   "metadata": {},
   "source": [
    "#### Imprimindo passos"
   ]
  },
  {
   "cell_type": "code",
   "execution_count": 34,
   "id": "31d80eac",
   "metadata": {},
   "outputs": [
    {
     "name": "stdout",
     "output_type": "stream",
     "text": [
      "Step: message_creation\n",
      "Mensagem criada pelo modelo:\n"
     ]
    },
    {
     "name": "stderr",
     "output_type": "stream",
     "text": [
      "C:\\Users\\frpbo\\AppData\\Local\\Temp\\ipykernel_8468\\3664164769.py:5: DeprecationWarning: The Assistants API is deprecated in favor of the Responses API\n",
      "  message = client.beta.threads.messages.retrieve(\n"
     ]
    },
    {
     "name": "stdout",
     "output_type": "stream",
     "text": [
      "Imagem file-BWQCWQkuyHgQN6NpowYukd, salva!\n",
      "Step: tool_calls\n",
      "import matplotlib.pyplot as plt\n",
      "\n",
      "# Somar o total de vendas por gênero\n",
      "sales_by_gender = data.groupby('Gender')['Total'].sum()\n",
      "\n",
      "# Criar o gráfico de pizza\n",
      "plt.figure(figsize=(8, 8))\n",
      "plt.pie(sales_by_gender, labels=sales_by_gender.index, autopct='%1.1f%%', startangle=140, colors=['#ff9999','#66b3ff'])\n",
      "plt.title('Percentual de Vendas por Sexo')\n",
      "plt.show()\n",
      "Step: message_creation\n",
      "Mensagem criada pelo modelo:\n",
      "O conjunto de dados contém informações sobre transações de vendas, incluindo colunas para \"Gender\" (sexo) e \"Total\" (valor total da venda).\n",
      "\n",
      "Para gerar um gráfico de pizza que mostra o percentual de vendas por sexo, vamos somar as vendas totais para cada grupo de gênero e criar o gráfico com base nesses totais. Vamos fazer isso agora.\n",
      "Step: tool_calls\n",
      "import pandas as pd\n",
      "\n",
      "# Carregar o arquivo para inspecionar os dados\n",
      "file_path = '/mnt/data/file-8riPWZe5gjZ8zf8yCXdpj3'\n",
      "data = pd.read_csv(file_path)\n",
      "\n",
      "# Mostrar as primeiras linhas do dataframe para inspecionar\n",
      "data.head()\n",
      "Step: message_creation\n",
      "Mensagem criada pelo modelo:\n",
      "Para gerar um gráfico de pizza com o percentual de vendas por sexo, preciso primeiro examinar o conteúdo do arquivo que você enviou. Vou verificar os dados para entender a estrutura e identificar as colunas relevantes.\n"
     ]
    }
   ],
   "source": [
    "for step in run_steps.data:\n",
    "    print(f\"Step: {step.step_details.type}\")\n",
    "    if step.type == \"message_creation\":\n",
    "        print(\"Mensagem criada pelo modelo:\")\n",
    "        message = client.beta.threads.messages.retrieve(\n",
    "            thread_id = thread.id,\n",
    "            message_id=step.step_details.message_creation.message_id\n",
    "        )\n",
    "        \n",
    "        if message.content[0].type == \"text\":\n",
    "            print(message.content[0].text.value)\n",
    "        if message.content[0].type ==\"image_file\":\n",
    "            file_id = message.content[0].image_file.file_id\n",
    "            image_data = client.files.content(file_id)\n",
    "            with open(f'files/{file.id}.png',\"wb\") as f:\n",
    "                f.write(image_data.read())\n",
    "                print(f'Imagem {file_id}, salva!')\n",
    "\n",
    "    elif step.type == \"tool_calls\":\n",
    "        for call in step.step_details.tool_calls:\n",
    "            print(call.code_interpreter.input)\n",
    "            # print(\"Ferramenta chamada:\", call.function.name if call.type == \"function\" else call.type)\n",
    "\n"
   ]
  }
 ],
 "metadata": {
  "kernelspec": {
   "display_name": "venv",
   "language": "python",
   "name": "python3"
  },
  "language_info": {
   "codemirror_mode": {
    "name": "ipython",
    "version": 3
   },
   "file_extension": ".py",
   "mimetype": "text/x-python",
   "name": "python",
   "nbconvert_exporter": "python",
   "pygments_lexer": "ipython3",
   "version": "3.12.6"
  }
 },
 "nbformat": 4,
 "nbformat_minor": 5
}
